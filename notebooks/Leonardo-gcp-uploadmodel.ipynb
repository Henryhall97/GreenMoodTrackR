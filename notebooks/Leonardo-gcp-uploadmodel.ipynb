{
 "cells": [
  {
   "cell_type": "code",
   "execution_count": 1,
   "metadata": {},
   "outputs": [],
   "source": [
    "import sys\n",
    "sys.path.insert(0, '../')\n",
    "from green_mood_tracker.gcp import storage_upload_models\n",
    "%load_ext autoreload\n",
    "%autoreload 2"
   ]
  },
  {
   "cell_type": "code",
   "execution_count": 6,
   "metadata": {},
   "outputs": [
    {
     "name": "stdout",
     "output_type": "stream",
     "text": [
      "model_emb_binary.joblib model_w2v_binary.joblib \u001b[1m\u001b[36mtestforroberta\u001b[m\u001b[m\r\n",
      "model_emb_binary.sav    roBERTa.joblib          \u001b[1m\u001b[36mtestforroberta2\u001b[m\u001b[m\r\n"
     ]
    }
   ],
   "source": [
    "! ls ../models/"
   ]
  },
  {
   "cell_type": "code",
   "execution_count": 16,
   "metadata": {},
   "outputs": [
    {
     "name": "stdout",
     "output_type": "stream",
     "text": [
      "/Users/leonardogavaudan/code/leonardogavaudan/green_mood_tracker/green_mood_tracker\n",
      "\u001b[32m=> model_emb_binary.joblib uploaded to bucket green-mood-tracker-01 inside models/model_emb_binary/beta/model_emb_binary.joblib\u001b[0m\n"
     ]
    }
   ],
   "source": [
    "storage_upload_models(bucket_name='green-mood-tracker-01', model_name='RoBERTa', model_version='test', model_filename='model.joblib', rm=False)"
   ]
  },
  {
   "cell_type": "code",
   "execution_count": null,
   "metadata": {},
   "outputs": [],
   "source": []
  },
  {
   "cell_type": "code",
   "execution_count": null,
   "metadata": {},
   "outputs": [],
   "source": []
  }
 ],
 "metadata": {
  "kernelspec": {
   "display_name": "Python 3",
   "language": "python",
   "name": "python3"
  },
  "language_info": {
   "codemirror_mode": {
    "name": "ipython",
    "version": 3
   },
   "file_extension": ".py",
   "mimetype": "text/x-python",
   "name": "python",
   "nbconvert_exporter": "python",
   "pygments_lexer": "ipython3",
   "version": "3.7.7"
  },
  "toc": {
   "base_numbering": 1,
   "nav_menu": {},
   "number_sections": true,
   "sideBar": true,
   "skip_h1_title": false,
   "title_cell": "Table of Contents",
   "title_sidebar": "Contents",
   "toc_cell": false,
   "toc_position": {},
   "toc_section_display": true,
   "toc_window_display": false
  }
 },
 "nbformat": 4,
 "nbformat_minor": 4
}
