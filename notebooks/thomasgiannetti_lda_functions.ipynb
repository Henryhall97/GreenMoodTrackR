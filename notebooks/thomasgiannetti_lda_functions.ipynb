{
 "cells": [
  {
   "cell_type": "code",
   "execution_count": 1,
   "metadata": {},
   "outputs": [
    {
     "name": "stdout",
     "output_type": "stream",
     "text": [
      "The autoreload extension is already loaded. To reload it, use:\n",
      "  %reload_ext autoreload\n"
     ]
    },
    {
     "name": "stderr",
     "output_type": "stream",
     "text": [
      "[nltk_data] Downloading package wordnet to\n",
      "[nltk_data]     /Users/thomasgiannetti/nltk_data...\n",
      "[nltk_data]   Package wordnet is already up-to-date!\n"
     ]
    }
   ],
   "source": [
    "import sys\n",
    "sys.path.insert(0, '../green_mood_tracker/')\n",
    "from twint_class import TWINT\n",
    "from training_data import get_raw_data_notebook\n",
    "import nest_asyncio\n",
    "import twint\n",
    "import pandas as pd\n",
    "\n",
    "nest_asyncio.apply()\n",
    "\n",
    "%load_ext autoreload\n",
    "%autoreload 2\n",
    "import nest_asyncio\n",
    "import twint\n",
    "import pandas as pd\n",
    "\n",
    "nest_asyncio.apply()\n",
    "\n",
    "%load_ext autoreload\n",
    "%autoreload 2\n",
    "\n",
    "from data_cleaning import clean"
   ]
  },
  {
   "cell_type": "code",
   "execution_count": 2,
   "metadata": {},
   "outputs": [
    {
     "name": "stdout",
     "output_type": "stream",
     "text": [
      "[!] No more data! Scraping will stop now.\n",
      "found 0 deleted tweets in this search.\n",
      "[!] No more data! Scraping will stop now.\n",
      "found 0 deleted tweets in this search.\n"
     ]
    }
   ],
   "source": [
    "kwargs = dict(\n",
    "    keywords=['solar energy'],\n",
    "    cities=['London', 'Paris'],\n",
    "    since = '2020-11-08 12:00:00',\n",
    "    store_csv=False,\n",
    "    limit=500\n",
    ")\n",
    "\n",
    "t = TWINT(**kwargs)\n",
    "\n",
    "df_city = t.city_df()"
   ]
  },
  {
   "cell_type": "code",
   "execution_count": 3,
   "metadata": {},
   "outputs": [],
   "source": [
    "df_city['tweet'] = df_city['tweet'].str.replace(kwargs['keywords'][0], '')"
   ]
  },
  {
   "cell_type": "code",
   "execution_count": 12,
   "metadata": {},
   "outputs": [
    {
     "name": "stderr",
     "output_type": "stream",
     "text": [
      "/Users/thomasgiannetti/.pyenv/versions/3.7.7/envs/lewagon/lib/python3.7/site-packages/sklearn/model_selection/_split.py:2052: FutureWarning: You should specify a value for 'cv' instead of relying on the default value. The default value will change from 3 to 5 in version 0.22.\n",
      "  warnings.warn(CV_WARNING, FutureWarning)\n",
      "/Users/thomasgiannetti/.pyenv/versions/3.7.7/envs/lewagon/lib/python3.7/site-packages/sklearn/model_selection/_search.py:842: DeprecationWarning: The default of the `iid` parameter will change from True to False in version 0.22 and will be removed in 0.24. This will change numeric results when test-set sizes are unequal.\n",
      "  DeprecationWarning)\n"
     ]
    }
   ],
   "source": [
    "from clustering import get_lda\n",
    "df_topics = get_lda(df_city, 'tweet')"
   ]
  },
  {
   "cell_type": "code",
   "execution_count": 13,
   "metadata": {},
   "outputs": [
    {
     "data": {
      "text/html": [
       "<div>\n",
       "<style scoped>\n",
       "    .dataframe tbody tr th:only-of-type {\n",
       "        vertical-align: middle;\n",
       "    }\n",
       "\n",
       "    .dataframe tbody tr th {\n",
       "        vertical-align: top;\n",
       "    }\n",
       "\n",
       "    .dataframe thead th {\n",
       "        text-align: right;\n",
       "    }\n",
       "</style>\n",
       "<table border=\"1\" class=\"dataframe\">\n",
       "  <thead>\n",
       "    <tr style=\"text-align: right;\">\n",
       "      <th></th>\n",
       "      <th>absolutely</th>\n",
       "      <th>accelerate</th>\n",
       "      <th>accelerates</th>\n",
       "      <th>access</th>\n",
       "      <th>according</th>\n",
       "      <th>account</th>\n",
       "      <th>accountmanagement</th>\n",
       "      <th>accurate</th>\n",
       "      <th>across</th>\n",
       "      <th>add</th>\n",
       "      <th>...</th>\n",
       "      <th>wu</th>\n",
       "      <th>xom</th>\n",
       "      <th>year</th>\n",
       "      <th>yearold</th>\n",
       "      <th>yesterday</th>\n",
       "      <th>yet</th>\n",
       "      <th>yield</th>\n",
       "      <th>zhao</th>\n",
       "      <th>𝐅𝐑𝐈𝐃𝐀𝐘</th>\n",
       "      <th>𝗙𝗥𝗜𝗗𝗔𝗬</th>\n",
       "    </tr>\n",
       "  </thead>\n",
       "  <tbody>\n",
       "    <tr>\n",
       "      <th>Topic 0</th>\n",
       "      <td>0.504906</td>\n",
       "      <td>0.509042</td>\n",
       "      <td>0.506326</td>\n",
       "      <td>0.503801</td>\n",
       "      <td>0.507497</td>\n",
       "      <td>0.744279</td>\n",
       "      <td>0.744279</td>\n",
       "      <td>0.837413</td>\n",
       "      <td>1.480242</td>\n",
       "      <td>0.876291</td>\n",
       "      <td>...</td>\n",
       "      <td>0.757412</td>\n",
       "      <td>0.697825</td>\n",
       "      <td>0.707442</td>\n",
       "      <td>0.504033</td>\n",
       "      <td>0.713957</td>\n",
       "      <td>0.692711</td>\n",
       "      <td>0.686071</td>\n",
       "      <td>0.804384</td>\n",
       "      <td>0.733787</td>\n",
       "      <td>0.976782</td>\n",
       "    </tr>\n",
       "    <tr>\n",
       "      <th>Topic 1</th>\n",
       "      <td>0.717634</td>\n",
       "      <td>0.718680</td>\n",
       "      <td>0.775819</td>\n",
       "      <td>0.692287</td>\n",
       "      <td>1.154220</td>\n",
       "      <td>0.505537</td>\n",
       "      <td>0.505537</td>\n",
       "      <td>0.507094</td>\n",
       "      <td>0.723688</td>\n",
       "      <td>0.507821</td>\n",
       "      <td>...</td>\n",
       "      <td>0.505539</td>\n",
       "      <td>0.509670</td>\n",
       "      <td>1.156678</td>\n",
       "      <td>0.712430</td>\n",
       "      <td>0.512621</td>\n",
       "      <td>0.510174</td>\n",
       "      <td>0.990724</td>\n",
       "      <td>0.508686</td>\n",
       "      <td>0.505618</td>\n",
       "      <td>0.506563</td>\n",
       "    </tr>\n",
       "  </tbody>\n",
       "</table>\n",
       "<p>2 rows × 1219 columns</p>\n",
       "</div>"
      ],
      "text/plain": [
       "         absolutely  accelerate  accelerates    access  according   account  \\\n",
       "Topic 0    0.504906    0.509042     0.506326  0.503801   0.507497  0.744279   \n",
       "Topic 1    0.717634    0.718680     0.775819  0.692287   1.154220  0.505537   \n",
       "\n",
       "         accountmanagement  accurate    across       add  ...        wu  \\\n",
       "Topic 0           0.744279  0.837413  1.480242  0.876291  ...  0.757412   \n",
       "Topic 1           0.505537  0.507094  0.723688  0.507821  ...  0.505539   \n",
       "\n",
       "              xom      year   yearold  yesterday       yet     yield  \\\n",
       "Topic 0  0.697825  0.707442  0.504033   0.713957  0.692711  0.686071   \n",
       "Topic 1  0.509670  1.156678  0.712430   0.512621  0.510174  0.990724   \n",
       "\n",
       "             zhao    𝐅𝐑𝐈𝐃𝐀𝐘    𝗙𝗥𝗜𝗗𝗔𝗬  \n",
       "Topic 0  0.804384  0.733787  0.976782  \n",
       "Topic 1  0.508686  0.505618  0.506563  \n",
       "\n",
       "[2 rows x 1219 columns]"
      ]
     },
     "execution_count": 13,
     "metadata": {},
     "output_type": "execute_result"
    }
   ],
   "source": [
    "df_topics"
   ]
  }
 ],
 "metadata": {
  "kernelspec": {
   "display_name": "Python 3",
   "language": "python",
   "name": "python3"
  },
  "language_info": {
   "codemirror_mode": {
    "name": "ipython",
    "version": 3
   },
   "file_extension": ".py",
   "mimetype": "text/x-python",
   "name": "python",
   "nbconvert_exporter": "python",
   "pygments_lexer": "ipython3",
   "version": "3.7.7"
  },
  "toc": {
   "base_numbering": 1,
   "nav_menu": {},
   "number_sections": true,
   "sideBar": true,
   "skip_h1_title": false,
   "title_cell": "Table of Contents",
   "title_sidebar": "Contents",
   "toc_cell": false,
   "toc_position": {},
   "toc_section_display": true,
   "toc_window_display": false
  }
 },
 "nbformat": 4,
 "nbformat_minor": 4
}
