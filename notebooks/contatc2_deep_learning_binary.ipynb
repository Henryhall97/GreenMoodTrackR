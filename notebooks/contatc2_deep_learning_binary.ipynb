{
 "cells": [
  {
   "cell_type": "code",
   "execution_count": 1,
   "metadata": {},
   "outputs": [
    {
     "name": "stderr",
     "output_type": "stream",
     "text": [
      "[nltk_data] Downloading package wordnet to\n",
      "[nltk_data]     C:\\Users\\cleme\\AppData\\Roaming\\nltk_data...\n",
      "[nltk_data]   Package wordnet is already up-to-date!\n"
     ]
    }
   ],
   "source": [
    "%load_ext autoreload\n",
    "%autoreload 2\n",
    "\n",
    "import pandas as pd\n",
    "import numpy as np\n",
    "import matplotlib.pyplot as plt\n",
    "import seaborn as sns\n",
    "\n",
    "from tensorflow.keras.preprocessing.sequence import pad_sequences\n",
    "from tensorflow.keras.models import Sequential\n",
    "from tensorflow.keras import layers\n",
    "from tensorflow.keras.callbacks import EarlyStopping\n",
    "\n",
    "from green_mood_tracker.training_data import get_raw_data_notebook\n",
    "from green_mood_tracker.data_cleaning import clean"
   ]
  },
  {
   "cell_type": "markdown",
   "metadata": {},
   "source": [
    "## download and clean data"
   ]
  },
  {
   "cell_type": "code",
   "execution_count": 2,
   "metadata": {},
   "outputs": [
    {
     "name": "stderr",
     "output_type": "stream",
     "text": [
      "c:\\users\\cleme\\.venvs\\lewagon\\lib\\site-packages\\green_mood_tracker\\training_data.py:24: SettingWithCopyWarning: \n",
      "A value is trying to be set on a copy of a slice from a DataFrame.\n",
      "Try using .loc[row_indexer,col_indexer] = value instead\n",
      "\n",
      "See the caveats in the documentation: http://pandas.pydata.org/pandas-docs/stable/indexing.html#indexing-view-versus-copy\n",
      "  sentiment140_final['source'] = 'sentiment140'\n",
      "c:\\users\\cleme\\.venvs\\lewagon\\lib\\site-packages\\green_mood_tracker\\training_data.py:31: SettingWithCopyWarning: \n",
      "A value is trying to be set on a copy of a slice from a DataFrame.\n",
      "Try using .loc[row_indexer,col_indexer] = value instead\n",
      "\n",
      "See the caveats in the documentation: http://pandas.pydata.org/pandas-docs/stable/indexing.html#indexing-view-versus-copy\n",
      "  complete_data_binary['polarity'] = complete_data_binary.polarity.map({4:1,0:0})\n"
     ]
    },
    {
     "name": "stdout",
     "output_type": "stream",
     "text": [
      "Wall time: 56.1 s\n"
     ]
    },
    {
     "data": {
      "text/html": [
       "<div>\n",
       "<style scoped>\n",
       "    .dataframe tbody tr th:only-of-type {\n",
       "        vertical-align: middle;\n",
       "    }\n",
       "\n",
       "    .dataframe tbody tr th {\n",
       "        vertical-align: top;\n",
       "    }\n",
       "\n",
       "    .dataframe thead th {\n",
       "        text-align: right;\n",
       "    }\n",
       "</style>\n",
       "<table border=\"1\" class=\"dataframe\">\n",
       "  <thead>\n",
       "    <tr style=\"text-align: right;\">\n",
       "      <th></th>\n",
       "      <th>id</th>\n",
       "      <th>text</th>\n",
       "      <th>polarity</th>\n",
       "      <th>source</th>\n",
       "    </tr>\n",
       "  </thead>\n",
       "  <tbody>\n",
       "    <tr>\n",
       "      <th>0</th>\n",
       "      <td>1467933112</td>\n",
       "      <td>the angel is going to miss the athlete this we...</td>\n",
       "      <td>0</td>\n",
       "      <td>sts_gold</td>\n",
       "    </tr>\n",
       "    <tr>\n",
       "      <th>1</th>\n",
       "      <td>2323395086</td>\n",
       "      <td>It looks as though Shaq is getting traded to C...</td>\n",
       "      <td>0</td>\n",
       "      <td>sts_gold</td>\n",
       "    </tr>\n",
       "    <tr>\n",
       "      <th>2</th>\n",
       "      <td>1467968979</td>\n",
       "      <td>@clarianne APRIL 9TH ISN'T COMING SOON ENOUGH</td>\n",
       "      <td>0</td>\n",
       "      <td>sts_gold</td>\n",
       "    </tr>\n",
       "    <tr>\n",
       "      <th>3</th>\n",
       "      <td>1990283756</td>\n",
       "      <td>drinking a McDonalds coffee and not understand...</td>\n",
       "      <td>0</td>\n",
       "      <td>sts_gold</td>\n",
       "    </tr>\n",
       "    <tr>\n",
       "      <th>4</th>\n",
       "      <td>1988884918</td>\n",
       "      <td>So dissapointed Taylor Swift doesnt have a Twi...</td>\n",
       "      <td>0</td>\n",
       "      <td>sts_gold</td>\n",
       "    </tr>\n",
       "  </tbody>\n",
       "</table>\n",
       "</div>"
      ],
      "text/plain": [
       "           id                                               text  polarity  \\\n",
       "0  1467933112  the angel is going to miss the athlete this we...         0   \n",
       "1  2323395086  It looks as though Shaq is getting traded to C...         0   \n",
       "2  1467968979     @clarianne APRIL 9TH ISN'T COMING SOON ENOUGH          0   \n",
       "3  1990283756  drinking a McDonalds coffee and not understand...         0   \n",
       "4  1988884918  So dissapointed Taylor Swift doesnt have a Twi...         0   \n",
       "\n",
       "     source  \n",
       "0  sts_gold  \n",
       "1  sts_gold  \n",
       "2  sts_gold  \n",
       "3  sts_gold  \n",
       "4  sts_gold  "
      ]
     },
     "execution_count": 2,
     "metadata": {},
     "output_type": "execute_result"
    }
   ],
   "source": [
    "%%time\n",
    "raw_data = get_raw_data_notebook(True)\n",
    "raw_data.head()"
   ]
  },
  {
   "cell_type": "code",
   "execution_count": 3,
   "metadata": {},
   "outputs": [
    {
     "data": {
      "text/plain": [
       "(1620501, 4)"
      ]
     },
     "execution_count": 3,
     "metadata": {},
     "output_type": "execute_result"
    }
   ],
   "source": [
    "raw_data.shape"
   ]
  },
  {
   "cell_type": "markdown",
   "metadata": {},
   "source": [
    "## Explore data"
   ]
  },
  {
   "cell_type": "code",
   "execution_count": 4,
   "metadata": {
    "scrolled": true
   },
   "outputs": [
    {
     "data": {
      "text/plain": [
       "sentiment140              1600000\n",
       "kaggle_sentiment_train      16363\n",
       "kaggle_sentiment_test        2104\n",
       "sts_gold                     2034\n",
       "Name: source, dtype: int64"
      ]
     },
     "execution_count": 4,
     "metadata": {},
     "output_type": "execute_result"
    }
   ],
   "source": [
    "raw_data.source.value_counts()"
   ]
  },
  {
   "cell_type": "code",
   "execution_count": 5,
   "metadata": {},
   "outputs": [
    {
     "data": {
      "text/plain": [
       "1    810317\n",
       "0    810184\n",
       "Name: polarity, dtype: int64"
      ]
     },
     "execution_count": 5,
     "metadata": {},
     "output_type": "execute_result"
    }
   ],
   "source": [
    "raw_data.polarity.value_counts()"
   ]
  },
  {
   "cell_type": "markdown",
   "metadata": {},
   "source": [
    "## sample data"
   ]
  },
  {
   "cell_type": "code",
   "execution_count": 6,
   "metadata": {},
   "outputs": [],
   "source": [
    "data_sample = raw_data.sample(n=25_000,random_state=0).reset_index()"
   ]
  },
  {
   "cell_type": "code",
   "execution_count": 7,
   "metadata": {
    "scrolled": false
   },
   "outputs": [
    {
     "name": "stdout",
     "output_type": "stream",
     "text": [
      "Wall time: 58.5 s\n"
     ]
    },
    {
     "data": {
      "text/html": [
       "<div>\n",
       "<style scoped>\n",
       "    .dataframe tbody tr th:only-of-type {\n",
       "        vertical-align: middle;\n",
       "    }\n",
       "\n",
       "    .dataframe tbody tr th {\n",
       "        vertical-align: top;\n",
       "    }\n",
       "\n",
       "    .dataframe thead th {\n",
       "        text-align: right;\n",
       "    }\n",
       "</style>\n",
       "<table border=\"1\" class=\"dataframe\">\n",
       "  <thead>\n",
       "    <tr style=\"text-align: right;\">\n",
       "      <th></th>\n",
       "      <th>index</th>\n",
       "      <th>id</th>\n",
       "      <th>text</th>\n",
       "      <th>polarity</th>\n",
       "      <th>source</th>\n",
       "    </tr>\n",
       "  </thead>\n",
       "  <tbody>\n",
       "    <tr>\n",
       "      <th>0</th>\n",
       "      <td>336834</td>\n",
       "      <td>2014083611</td>\n",
       "      <td>pinch even fought amma hate new goatee sd look...</td>\n",
       "      <td>0</td>\n",
       "      <td>sentiment140</td>\n",
       "    </tr>\n",
       "    <tr>\n",
       "      <th>1</th>\n",
       "      <td>622734</td>\n",
       "      <td>2229303528</td>\n",
       "      <td>didnt even get try week</td>\n",
       "      <td>0</td>\n",
       "      <td>sentiment140</td>\n",
       "    </tr>\n",
       "    <tr>\n",
       "      <th>2</th>\n",
       "      <td>1016867</td>\n",
       "      <td>1881768019</td>\n",
       "      <td>giving jack quick hair cut</td>\n",
       "      <td>1</td>\n",
       "      <td>sentiment140</td>\n",
       "    </tr>\n",
       "    <tr>\n",
       "      <th>3</th>\n",
       "      <td>1090541</td>\n",
       "      <td>1969804803</td>\n",
       "      <td>pirate game sat sun work monday tuesthur work ...</td>\n",
       "      <td>1</td>\n",
       "      <td>sentiment140</td>\n",
       "    </tr>\n",
       "    <tr>\n",
       "      <th>4</th>\n",
       "      <td>947493</td>\n",
       "      <td>1823084268</td>\n",
       "      <td>fun night</td>\n",
       "      <td>1</td>\n",
       "      <td>sentiment140</td>\n",
       "    </tr>\n",
       "  </tbody>\n",
       "</table>\n",
       "</div>"
      ],
      "text/plain": [
       "     index          id                                               text  \\\n",
       "0   336834  2014083611  pinch even fought amma hate new goatee sd look...   \n",
       "1   622734  2229303528                            didnt even get try week   \n",
       "2  1016867  1881768019                         giving jack quick hair cut   \n",
       "3  1090541  1969804803  pirate game sat sun work monday tuesthur work ...   \n",
       "4   947493  1823084268                                          fun night   \n",
       "\n",
       "   polarity        source  \n",
       "0         0  sentiment140  \n",
       "1         0  sentiment140  \n",
       "2         1  sentiment140  \n",
       "3         1  sentiment140  \n",
       "4         1  sentiment140  "
      ]
     },
     "execution_count": 7,
     "metadata": {},
     "output_type": "execute_result"
    }
   ],
   "source": [
    "%%time\n",
    "data_sample_clean = clean(data_sample,'text')\n",
    "data_sample_clean.head()"
   ]
  },
  {
   "cell_type": "markdown",
   "metadata": {},
   "source": [
    "## split data Train/Test"
   ]
  },
  {
   "cell_type": "code",
   "execution_count": 18,
   "metadata": {},
   "outputs": [],
   "source": [
    "from sklearn.model_selection import train_test_split\n",
    "\n",
    "X = data_sample_clean.text\n",
    "y = data_sample_clean.polarity"
   ]
  },
  {
   "cell_type": "code",
   "execution_count": 19,
   "metadata": {},
   "outputs": [],
   "source": [
    "sentence_train, sentence_test, y_train, y_test = train_test_split(X, y, test_size=0.3, random_state = 0)"
   ]
  },
  {
   "cell_type": "markdown",
   "metadata": {},
   "source": [
    "## tokenize"
   ]
  },
  {
   "cell_type": "code",
   "execution_count": 20,
   "metadata": {},
   "outputs": [],
   "source": [
    "from tensorflow.keras.preprocessing.text import Tokenizer\n",
    "\n",
    "tk = Tokenizer()\n",
    "tk.fit_on_texts(sentence_train)\n",
    "word_to_id = tk.word_index\n",
    "id_to_word = {value:key for key,value in word_to_id.items()}\n",
    "sentences_token_train = tk.texts_to_sequences(sentence_train)\n",
    "sentences_token_test = tk.texts_to_sequences(sentence_test)\n",
    "\n",
    "vocab_size=len(word_to_id)"
   ]
  },
  {
   "cell_type": "markdown",
   "metadata": {},
   "source": [
    "## pad data"
   ]
  },
  {
   "cell_type": "code",
   "execution_count": 21,
   "metadata": {},
   "outputs": [],
   "source": [
    "def generate_data(X_train,X_test):\n",
    "    \n",
    "    # YOUR CODE HERE\n",
    "    X_train_pad = pad_sequences(X_train, dtype = 'float32',padding='post')\n",
    "    X__test_pad = pad_sequences(X_test, dtype = 'float32',padding='post')\n",
    "    \n",
    "    return X_train_pad,X__test_pad\n",
    "\n",
    "X_train_pad, X_test_pad = generate_data(sentences_token_train,sentences_token_test)"
   ]
  },
  {
   "cell_type": "code",
   "execution_count": 22,
   "metadata": {},
   "outputs": [],
   "source": [
    "def plot_loss(history):\n",
    "    plt.plot(history.history['loss'])\n",
    "    plt.plot(history.history['val_loss'])\n",
    "    plt.title('Model loss')\n",
    "    plt.ylabel('Mean Square Error - Loss')\n",
    "    plt.xlabel('Epoch')\n",
    "    plt.legend(['Train', 'Validation'], loc='best')\n",
    "    plt.show()\n",
    "    \n",
    "    plt.plot(history.history['accuracy'])\n",
    "    plt.plot(history.history['val_accuracy'])\n",
    "    plt.title('Model Accuracy')\n",
    "    plt.ylabel('Accuracy')\n",
    "    plt.xlabel('Epoch')\n",
    "    plt.legend(['Train', 'Validation'], loc='best')\n",
    "    plt.show()"
   ]
  },
  {
   "cell_type": "markdown",
   "metadata": {},
   "source": [
    "## build lstm model"
   ]
  },
  {
   "cell_type": "code",
   "execution_count": 23,
   "metadata": {},
   "outputs": [],
   "source": [
    "def init_model(vocab_size):\n",
    "    \n",
    "    # YOUR CODE HERE\n",
    "    model = Sequential()\n",
    "    model.add(layers.Embedding(input_dim=vocab_size+1, output_dim=100, mask_zero=True))\n",
    "    model.add(layers.GRU(units=13, activation='tanh')) \n",
    "    model.add(layers.Dense(64, activation='relu'))\n",
    "    model.add(layers.Dropout(.2))\n",
    "    model.add(layers.Dense(1, activation='sigmoid'))\n",
    "\n",
    "    model.compile(loss= 'binary_crossentropy', \n",
    "                  optimizer='rmsprop',\n",
    "                  metrics=['accuracy'])\n",
    "    \n",
    "    return model"
   ]
  },
  {
   "cell_type": "code",
   "execution_count": 24,
   "metadata": {},
   "outputs": [
    {
     "name": "stdout",
     "output_type": "stream",
     "text": [
      "Epoch 1/100\n",
      "391/391 [==============================] - 13s 33ms/step - loss: 0.5865 - accuracy: 0.6870 - val_loss: 0.5307 - val_accuracy: 0.7328\n",
      "Epoch 2/100\n",
      "391/391 [==============================] - 11s 27ms/step - loss: 0.4504 - accuracy: 0.7957 - val_loss: 0.5349 - val_accuracy: 0.7338\n",
      "Epoch 3/100\n",
      "391/391 [==============================] - 11s 27ms/step - loss: 0.3994 - accuracy: 0.8254 - val_loss: 0.5453 - val_accuracy: 0.7302\n",
      "Epoch 4/100\n",
      "391/391 [==============================] - 10s 27ms/step - loss: 0.3630 - accuracy: 0.8450 - val_loss: 0.5741 - val_accuracy: 0.7292\n",
      "Epoch 5/100\n",
      "391/391 [==============================] - 10s 26ms/step - loss: 0.3258 - accuracy: 0.8641 - val_loss: 0.5924 - val_accuracy: 0.7246\n",
      "Epoch 6/100\n",
      "391/391 [==============================] - 11s 28ms/step - loss: 0.2835 - accuracy: 0.8859 - val_loss: 0.6166 - val_accuracy: 0.7194\n",
      "Epoch 7/100\n",
      "391/391 [==============================] - 10s 25ms/step - loss: 0.2460 - accuracy: 0.9034 - val_loss: 0.6657 - val_accuracy: 0.7160\n",
      "Wall time: 1min 22s\n"
     ]
    }
   ],
   "source": [
    "%%time\n",
    "model_emb = init_model(vocab_size)\n",
    "\n",
    "es = EarlyStopping(patience=5,restore_best_weights=True,monitor='val_accuracy')\n",
    "history_emb = model_emb.fit(X_train_pad, y_train,\n",
    "          validation_split= 2/7,\n",
    "          epochs=100, \n",
    "          batch_size=32, \n",
    "          verbose=1,\n",
    "          use_multiprocessing=True,\n",
    "          callbacks = [es])"
   ]
  },
  {
   "cell_type": "code",
   "execution_count": 25,
   "metadata": {},
   "outputs": [
    {
     "name": "stdout",
     "output_type": "stream",
     "text": [
      "235/235 [==============================] - 1s 3ms/step - loss: 0.5321 - accuracy: 0.7429\n",
      "accuracy 0.7429333329200745\n"
     ]
    },
    {
     "data": {
      "image/png": "[encoded data removed]",
      "text/plain": [
       "<Figure size 432x288 with 1 Axes>"
      ]
     },
     "metadata": {
      "needs_background": "light"
     },
     "output_type": "display_data"
    },
    {
     "data": {
      "image/png": "[encoded data removed]",
      "text/plain": [
       "<Figure size 432x288 with 1 Axes>"
      ]
     },
     "metadata": {
      "needs_background": "light"
     },
     "output_type": "display_data"
    }
   ],
   "source": [
    "print('accuracy', model_emb.evaluate(X_test_pad,y_test)[1])\n",
    "plot_loss(history_emb)"
   ]
  },
  {
   "cell_type": "markdown",
   "metadata": {},
   "source": [
    "## build convolutional model"
   ]
  },
  {
   "cell_type": "code",
   "execution_count": 26,
   "metadata": {},
   "outputs": [],
   "source": [
    "def generate_data_cnn(X_train,X_test):\n",
    "    \n",
    "    # YOUR CODE HERE\n",
    "    X_train_pad = pad_sequences(X_train, dtype = 'float32',padding='post',maxlen=50)\n",
    "    X__test_pad = pad_sequences(X_test, dtype = 'float32',padding='post',maxlen=50)\n",
    "    \n",
    "    return X_train_pad,X__test_pad\n",
    "\n",
    "X_train_pad_cnn, X_test_pad_cnn = generate_data_cnn(sentences_token_train,sentences_token_test)"
   ]
  },
  {
   "cell_type": "code",
   "execution_count": 27,
   "metadata": {},
   "outputs": [],
   "source": [
    "def init_model_cnn(vocab_size):\n",
    "    \n",
    "    model = Sequential()\n",
    "\n",
    "    model.add(layers.Embedding(input_dim=vocab_size+1, output_dim=100,input_length=50, mask_zero=True))\n",
    "    model.add(layers.Conv1D(16,kernel_size = 5, activation='relu')) \n",
    "    model.add(layers.Flatten()) \n",
    "    model.add(layers.Dense(10, activation='relu'))\n",
    "    model.add(layers.Dense(1, activation='sigmoid'))\n",
    "\n",
    "    model.compile(loss= 'binary_crossentropy',  \n",
    "                  optimizer='rmsprop',\n",
    "                  metrics=['accuracy'])\n",
    "    \n",
    "    return model"
   ]
  },
  {
   "cell_type": "code",
   "execution_count": 28,
   "metadata": {},
   "outputs": [
    {
     "name": "stdout",
     "output_type": "stream",
     "text": [
      "Epoch 1/100\n",
      "391/391 [==============================] - 10s 26ms/step - loss: 0.6291 - accuracy: 0.6371 - val_loss: 0.5428 - val_accuracy: 0.7318\n",
      "Epoch 2/100\n",
      "391/391 [==============================] - 10s 26ms/step - loss: 0.4654 - accuracy: 0.7843 - val_loss: 0.5568 - val_accuracy: 0.7238\n",
      "Epoch 3/100\n",
      "391/391 [==============================] - 10s 25ms/step - loss: 0.3865 - accuracy: 0.8326 - val_loss: 0.5617 - val_accuracy: 0.7280\n",
      "Epoch 4/100\n",
      "391/391 [==============================] - 9s 24ms/step - loss: 0.3065 - accuracy: 0.8764 - val_loss: 0.5991 - val_accuracy: 0.7202\n",
      "Epoch 5/100\n",
      "391/391 [==============================] - 9s 24ms/step - loss: 0.2245 - accuracy: 0.9152 - val_loss: 0.6911 - val_accuracy: 0.6950\n",
      "Epoch 6/100\n",
      "391/391 [==============================] - 10s 24ms/step - loss: 0.1597 - accuracy: 0.9394 - val_loss: 0.7840 - val_accuracy: 0.6904\n",
      "Wall time: 59.9 s\n"
     ]
    }
   ],
   "source": [
    "%%time\n",
    "model_cnn = init_model_cnn(vocab_size)\n",
    "\n",
    "es = EarlyStopping(patience=5,restore_best_weights=True,monitor='val_accuracy')\n",
    "history_cnn = model_cnn.fit(X_train_pad_cnn, y_train,\n",
    "          validation_split= 2/7,\n",
    "          epochs=100, \n",
    "          batch_size=32, \n",
    "          verbose=1,\n",
    "          use_multiprocessing=True,\n",
    "          callbacks = [es])"
   ]
  },
  {
   "cell_type": "code",
   "execution_count": 29,
   "metadata": {},
   "outputs": [
    {
     "name": "stdout",
     "output_type": "stream",
     "text": [
      "235/235 [==============================] - 1s 3ms/step - loss: 0.5426 - accuracy: 0.7329\n",
      "accuracy 0.7329333424568176\n"
     ]
    },
    {
     "data": {
      "image/png": "[encoded data removed]",
      "text/plain": [
       "<Figure size 432x288 with 1 Axes>"
      ]
     },
     "metadata": {
      "needs_background": "light"
     },
     "output_type": "display_data"
    },
    {
     "data": {
      "image/png": "[encoded data removed]",
      "text/plain": [
       "<Figure size 432x288 with 1 Axes>"
      ]
     },
     "metadata": {
      "needs_background": "light"
     },
     "output_type": "display_data"
    }
   ],
   "source": [
    "print('accuracy', model_cnn.evaluate(X_test_pad_cnn,y_test)[1])\n",
    "plot_loss(history_cnn)"
   ]
  },
  {
   "cell_type": "code",
   "execution_count": null,
   "metadata": {},
   "outputs": [],
   "source": [
    "# job save --- not working\n",
    "# import joblib\n",
    "\n",
    "# filename = 'model_emb_binary.joblib'\n",
    "# joblib.dump(model_emb, filename)\n",
    "\n",
    "# import pickle\n",
    "\n",
    "# filename = 'model_emb_binary.sav'\n",
    "# pickle.dump(model_emb, open(filename, 'wb'))"
   ]
  },
  {
   "cell_type": "markdown",
   "metadata": {},
   "source": [
    "## Evaluate"
   ]
  },
  {
   "cell_type": "code",
   "execution_count": 65,
   "metadata": {},
   "outputs": [
    {
     "name": "stdout",
     "output_type": "stream",
     "text": [
      "235/235 [==============================] - 1s 5ms/step - loss: 0.5321 - accuracy: 0.7429\n",
      "embeddings+LSTM accuracy: [0.5321478247642517, 0.7429333329200745]\n"
     ]
    }
   ],
   "source": [
    "print('embeddings+LSTM accuracy:',model_emb.evaluate(X_test_pad,y_test))"
   ]
  },
  {
   "cell_type": "code",
   "execution_count": 66,
   "metadata": {},
   "outputs": [
    {
     "name": "stdout",
     "output_type": "stream",
     "text": [
      "235/235 [==============================] - 1s 5ms/step - loss: 0.5426 - accuracy: 0.7329\n",
      "cnn accuracy: [0.542564332485199, 0.7329333424568176]\n"
     ]
    }
   ],
   "source": [
    "print('cnn accuracy:',model_cnn.evaluate(X_test_pad_cnn,y_test))"
   ]
  },
  {
   "cell_type": "markdown",
   "metadata": {},
   "source": [
    "### Predict on London"
   ]
  },
  {
   "cell_type": "code",
   "execution_count": 73,
   "metadata": {},
   "outputs": [],
   "source": [
    "import nest_asyncio\n",
    "import sys\n",
    "from green_mood_tracker.twint_class import TWINT\n",
    "nest_asyncio.apply()"
   ]
  },
  {
   "cell_type": "code",
   "execution_count": 75,
   "metadata": {},
   "outputs": [],
   "source": [
    "import sys\n",
    "sys.path.insert(0, '../green_mood_tracker/')"
   ]
  },
  {
   "cell_type": "code",
   "execution_count": null,
   "metadata": {},
   "outputs": [],
   "source": [
    "kwargs = dict(\n",
    "    keywords=['nuclear'],\n",
    "    cities=['London'],\n",
    "    since = '2020-11-10 12:00:00',\n",
    "    limit=200,\n",
    "    file_path='../green_mood_tracker/data/london_nuclear.csv'\n",
    ")\n",
    "\n",
    "t = TWINT(**kwargs)\n",
    "\n",
    "df_city = t.city_csv()"
   ]
  },
  {
   "cell_type": "code",
   "execution_count": null,
   "metadata": {},
   "outputs": [],
   "source": [
    "! ls ../green_mood_tracker/data/"
   ]
  },
  {
   "cell_type": "code",
   "execution_count": null,
   "metadata": {},
   "outputs": [],
   "source": [
    "csv = pd.read_csv('../green_mood_tracker/data/london_nuclear.csv')"
   ]
  }
 ],
 "metadata": {
  "kernelspec": {
   "display_name": "Python 3",
   "language": "python",
   "name": "python3"
  },
  "language_info": {
   "codemirror_mode": {
    "name": "ipython",
    "version": 3
   },
   "file_extension": ".py",
   "mimetype": "text/x-python",
   "name": "python",
   "nbconvert_exporter": "python",
   "pygments_lexer": "ipython3",
   "version": "3.7.7"
  },
  "toc": {
   "base_numbering": 1,
   "nav_menu": {},
   "number_sections": true,
   "sideBar": true,
   "skip_h1_title": false,
   "title_cell": "Table of Contents",
   "title_sidebar": "Contents",
   "toc_cell": false,
   "toc_position": {},
   "toc_section_display": true,
   "toc_window_display": false
  },
  "varInspector": {
   "cols": {
    "lenName": 16,
    "lenType": 16,
    "lenVar": 40
   },
   "kernels_config": {
    "python": {
     "delete_cmd_postfix": "",
     "delete_cmd_prefix": "del ",
     "library": "var_list.py",
     "varRefreshCmd": "print(var_dic_list())"
    },
    "r": {
     "delete_cmd_postfix": ") ",
     "delete_cmd_prefix": "rm(",
     "library": "var_list.r",
     "varRefreshCmd": "cat(var_dic_list()) "
    }
   },
   "types_to_exclude": [
    "module",
    "function",
    "builtin_function_or_method",
    "instance",
    "_Feature"
   ],
   "window_display": false
  }
 },
 "nbformat": 4,
 "nbformat_minor": 4
}
