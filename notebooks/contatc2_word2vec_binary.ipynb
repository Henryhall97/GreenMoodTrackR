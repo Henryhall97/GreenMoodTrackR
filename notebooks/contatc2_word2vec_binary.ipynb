{
 "cells": [
  {
   "cell_type": "code",
   "execution_count": 1,
   "metadata": {},
   "outputs": [
    {
     "name": "stderr",
     "output_type": "stream",
     "text": [
      "[nltk_data] Downloading package wordnet to\n",
      "[nltk_data]     C:\\Users\\cleme\\AppData\\Roaming\\nltk_data...\n",
      "[nltk_data]   Package wordnet is already up-to-date!\n"
     ]
    }
   ],
   "source": [
    "%load_ext autoreload\n",
    "%autoreload 2\n",
    "\n",
    "import pandas as pd\n",
    "import numpy as np\n",
    "import matplotlib.pyplot as plt\n",
    "import seaborn as sns\n",
    "\n",
    "from tensorflow.keras.preprocessing.sequence import pad_sequences\n",
    "from tensorflow.keras.models import Sequential\n",
    "from tensorflow.keras import layers\n",
    "from tensorflow.keras.callbacks import EarlyStopping\n",
    "\n",
    "from green_mood_tracker.training_data import get_raw_data_notebook\n",
    "from green_mood_tracker.data_cleaning import clean"
   ]
  },
  {
   "cell_type": "markdown",
   "metadata": {},
   "source": [
    "## download and clean data"
   ]
  },
  {
   "cell_type": "code",
   "execution_count": 2,
   "metadata": {},
   "outputs": [
    {
     "name": "stderr",
     "output_type": "stream",
     "text": [
      "c:\\users\\cleme\\.venvs\\lewagon\\lib\\site-packages\\green_mood_tracker\\training_data.py:24: SettingWithCopyWarning: \n",
      "A value is trying to be set on a copy of a slice from a DataFrame.\n",
      "Try using .loc[row_indexer,col_indexer] = value instead\n",
      "\n",
      "See the caveats in the documentation: http://pandas.pydata.org/pandas-docs/stable/indexing.html#indexing-view-versus-copy\n",
      "  sentiment140_final['source'] = 'sentiment140'\n",
      "c:\\users\\cleme\\.venvs\\lewagon\\lib\\site-packages\\green_mood_tracker\\training_data.py:31: SettingWithCopyWarning: \n",
      "A value is trying to be set on a copy of a slice from a DataFrame.\n",
      "Try using .loc[row_indexer,col_indexer] = value instead\n",
      "\n",
      "See the caveats in the documentation: http://pandas.pydata.org/pandas-docs/stable/indexing.html#indexing-view-versus-copy\n",
      "  complete_data_binary['polarity'] = complete_data_binary.polarity.map({4:1,0:0})\n"
     ]
    },
    {
     "name": "stdout",
     "output_type": "stream",
     "text": [
      "Wall time: 56.1 s\n"
     ]
    },
    {
     "data": {
      "text/html": [
       "<div>\n",
       "<style scoped>\n",
       "    .dataframe tbody tr th:only-of-type {\n",
       "        vertical-align: middle;\n",
       "    }\n",
       "\n",
       "    .dataframe tbody tr th {\n",
       "        vertical-align: top;\n",
       "    }\n",
       "\n",
       "    .dataframe thead th {\n",
       "        text-align: right;\n",
       "    }\n",
       "</style>\n",
       "<table border=\"1\" class=\"dataframe\">\n",
       "  <thead>\n",
       "    <tr style=\"text-align: right;\">\n",
       "      <th></th>\n",
       "      <th>id</th>\n",
       "      <th>text</th>\n",
       "      <th>polarity</th>\n",
       "      <th>source</th>\n",
       "    </tr>\n",
       "  </thead>\n",
       "  <tbody>\n",
       "    <tr>\n",
       "      <th>0</th>\n",
       "      <td>1467933112</td>\n",
       "      <td>the angel is going to miss the athlete this we...</td>\n",
       "      <td>0</td>\n",
       "      <td>sts_gold</td>\n",
       "    </tr>\n",
       "    <tr>\n",
       "      <th>1</th>\n",
       "      <td>2323395086</td>\n",
       "      <td>It looks as though Shaq is getting traded to C...</td>\n",
       "      <td>0</td>\n",
       "      <td>sts_gold</td>\n",
       "    </tr>\n",
       "    <tr>\n",
       "      <th>2</th>\n",
       "      <td>1467968979</td>\n",
       "      <td>@clarianne APRIL 9TH ISN'T COMING SOON ENOUGH</td>\n",
       "      <td>0</td>\n",
       "      <td>sts_gold</td>\n",
       "    </tr>\n",
       "    <tr>\n",
       "      <th>3</th>\n",
       "      <td>1990283756</td>\n",
       "      <td>drinking a McDonalds coffee and not understand...</td>\n",
       "      <td>0</td>\n",
       "      <td>sts_gold</td>\n",
       "    </tr>\n",
       "    <tr>\n",
       "      <th>4</th>\n",
       "      <td>1988884918</td>\n",
       "      <td>So dissapointed Taylor Swift doesnt have a Twi...</td>\n",
       "      <td>0</td>\n",
       "      <td>sts_gold</td>\n",
       "    </tr>\n",
       "  </tbody>\n",
       "</table>\n",
       "</div>"
      ],
      "text/plain": [
       "           id                                               text  polarity  \\\n",
       "0  1467933112  the angel is going to miss the athlete this we...         0   \n",
       "1  2323395086  It looks as though Shaq is getting traded to C...         0   \n",
       "2  1467968979     @clarianne APRIL 9TH ISN'T COMING SOON ENOUGH          0   \n",
       "3  1990283756  drinking a McDonalds coffee and not understand...         0   \n",
       "4  1988884918  So dissapointed Taylor Swift doesnt have a Twi...         0   \n",
       "\n",
       "     source  \n",
       "0  sts_gold  \n",
       "1  sts_gold  \n",
       "2  sts_gold  \n",
       "3  sts_gold  \n",
       "4  sts_gold  "
      ]
     },
     "execution_count": 2,
     "metadata": {},
     "output_type": "execute_result"
    }
   ],
   "source": [
    "%%time\n",
    "raw_data = get_raw_data_notebook(True)\n",
    "raw_data.head()"
   ]
  },
  {
   "cell_type": "code",
   "execution_count": 3,
   "metadata": {},
   "outputs": [
    {
     "data": {
      "text/plain": [
       "(1620501, 4)"
      ]
     },
     "execution_count": 3,
     "metadata": {},
     "output_type": "execute_result"
    }
   ],
   "source": [
    "raw_data.shape"
   ]
  },
  {
   "cell_type": "markdown",
   "metadata": {},
   "source": [
    "## Explore data"
   ]
  },
  {
   "cell_type": "code",
   "execution_count": 4,
   "metadata": {
    "scrolled": true
   },
   "outputs": [
    {
     "data": {
      "text/plain": [
       "sentiment140              1600000\n",
       "kaggle_sentiment_train      16363\n",
       "kaggle_sentiment_test        2104\n",
       "sts_gold                     2034\n",
       "Name: source, dtype: int64"
      ]
     },
     "execution_count": 4,
     "metadata": {},
     "output_type": "execute_result"
    }
   ],
   "source": [
    "raw_data.source.value_counts()"
   ]
  },
  {
   "cell_type": "code",
   "execution_count": 5,
   "metadata": {},
   "outputs": [
    {
     "data": {
      "text/plain": [
       "1    810317\n",
       "0    810184\n",
       "Name: polarity, dtype: int64"
      ]
     },
     "execution_count": 5,
     "metadata": {},
     "output_type": "execute_result"
    }
   ],
   "source": [
    "raw_data.polarity.value_counts()"
   ]
  },
  {
   "cell_type": "markdown",
   "metadata": {},
   "source": [
    "## sample data"
   ]
  },
  {
   "cell_type": "code",
   "execution_count": 6,
   "metadata": {},
   "outputs": [],
   "source": [
    "data_sample = raw_data.sample(n=25_000,random_state=0).reset_index()"
   ]
  },
  {
   "cell_type": "code",
   "execution_count": 7,
   "metadata": {
    "scrolled": false
   },
   "outputs": [
    {
     "name": "stdout",
     "output_type": "stream",
     "text": [
      "Wall time: 58.5 s\n"
     ]
    },
    {
     "data": {
      "text/html": [
       "<div>\n",
       "<style scoped>\n",
       "    .dataframe tbody tr th:only-of-type {\n",
       "        vertical-align: middle;\n",
       "    }\n",
       "\n",
       "    .dataframe tbody tr th {\n",
       "        vertical-align: top;\n",
       "    }\n",
       "\n",
       "    .dataframe thead th {\n",
       "        text-align: right;\n",
       "    }\n",
       "</style>\n",
       "<table border=\"1\" class=\"dataframe\">\n",
       "  <thead>\n",
       "    <tr style=\"text-align: right;\">\n",
       "      <th></th>\n",
       "      <th>index</th>\n",
       "      <th>id</th>\n",
       "      <th>text</th>\n",
       "      <th>polarity</th>\n",
       "      <th>source</th>\n",
       "    </tr>\n",
       "  </thead>\n",
       "  <tbody>\n",
       "    <tr>\n",
       "      <th>0</th>\n",
       "      <td>336834</td>\n",
       "      <td>2014083611</td>\n",
       "      <td>pinch even fought amma hate new goatee sd look...</td>\n",
       "      <td>0</td>\n",
       "      <td>sentiment140</td>\n",
       "    </tr>\n",
       "    <tr>\n",
       "      <th>1</th>\n",
       "      <td>622734</td>\n",
       "      <td>2229303528</td>\n",
       "      <td>didnt even get try week</td>\n",
       "      <td>0</td>\n",
       "      <td>sentiment140</td>\n",
       "    </tr>\n",
       "    <tr>\n",
       "      <th>2</th>\n",
       "      <td>1016867</td>\n",
       "      <td>1881768019</td>\n",
       "      <td>giving jack quick hair cut</td>\n",
       "      <td>1</td>\n",
       "      <td>sentiment140</td>\n",
       "    </tr>\n",
       "    <tr>\n",
       "      <th>3</th>\n",
       "      <td>1090541</td>\n",
       "      <td>1969804803</td>\n",
       "      <td>pirate game sat sun work monday tuesthur work ...</td>\n",
       "      <td>1</td>\n",
       "      <td>sentiment140</td>\n",
       "    </tr>\n",
       "    <tr>\n",
       "      <th>4</th>\n",
       "      <td>947493</td>\n",
       "      <td>1823084268</td>\n",
       "      <td>fun night</td>\n",
       "      <td>1</td>\n",
       "      <td>sentiment140</td>\n",
       "    </tr>\n",
       "  </tbody>\n",
       "</table>\n",
       "</div>"
      ],
      "text/plain": [
       "     index          id                                               text  \\\n",
       "0   336834  2014083611  pinch even fought amma hate new goatee sd look...   \n",
       "1   622734  2229303528                            didnt even get try week   \n",
       "2  1016867  1881768019                         giving jack quick hair cut   \n",
       "3  1090541  1969804803  pirate game sat sun work monday tuesthur work ...   \n",
       "4   947493  1823084268                                          fun night   \n",
       "\n",
       "   polarity        source  \n",
       "0         0  sentiment140  \n",
       "1         0  sentiment140  \n",
       "2         1  sentiment140  \n",
       "3         1  sentiment140  \n",
       "4         1  sentiment140  "
      ]
     },
     "execution_count": 7,
     "metadata": {},
     "output_type": "execute_result"
    }
   ],
   "source": [
    "%%time\n",
    "data_sample_clean = clean(data_sample,'text')\n",
    "data_sample_clean.head()"
   ]
  },
  {
   "cell_type": "markdown",
   "metadata": {},
   "source": [
    "## split data Train/Test"
   ]
  },
  {
   "cell_type": "code",
   "execution_count": 18,
   "metadata": {},
   "outputs": [],
   "source": [
    "from sklearn.model_selection import train_test_split\n",
    "\n",
    "X = data_sample_clean.text\n",
    "y = data_sample_clean.polarity"
   ]
  },
  {
   "cell_type": "code",
   "execution_count": 19,
   "metadata": {},
   "outputs": [],
   "source": [
    "sentence_train, sentence_test, y_train, y_test = train_test_split(X, y, test_size=0.3, random_state = 0)"
   ]
  },
  {
   "cell_type": "code",
   "execution_count": 22,
   "metadata": {},
   "outputs": [],
   "source": [
    "def plot_loss(history):\n",
    "    plt.plot(history.history['loss'])\n",
    "    plt.plot(history.history['val_loss'])\n",
    "    plt.title('Model loss')\n",
    "    plt.ylabel('Mean Square Error - Loss')\n",
    "    plt.xlabel('Epoch')\n",
    "    plt.legend(['Train', 'Validation'], loc='best')\n",
    "    plt.show()\n",
    "    \n",
    "    plt.plot(history.history['accuracy'])\n",
    "    plt.plot(history.history['val_accuracy'])\n",
    "    plt.title('Model Accuracy')\n",
    "    plt.ylabel('Accuracy')\n",
    "    plt.xlabel('Epoch')\n",
    "    plt.legend(['Train', 'Validation'], loc='best')\n",
    "    plt.show()"
   ]
  },
  {
   "cell_type": "markdown",
   "metadata": {},
   "source": [
    "## word2vec"
   ]
  },
  {
   "cell_type": "code",
   "execution_count": 30,
   "metadata": {},
   "outputs": [],
   "source": [
    "from gensim.models import Word2Vec\n",
    "\n",
    "word2vec = Word2Vec(sentences=sentence_train)\n",
    "vocab_size=len(word2vec.wv.vocab.keys())"
   ]
  },
  {
   "cell_type": "code",
   "execution_count": 31,
   "metadata": {},
   "outputs": [],
   "source": [
    "def embed_sentence(word2vec, sentence):\n",
    "    embedded=[]\n",
    "    embedded_sentence = []\n",
    "    for word in sentence:\n",
    "         if word in word2vec.wv.vocab.keys():\n",
    "             vector = word2vec.wv[word]\n",
    "             embedded_sentence.append(vector)                 \n",
    "    return np.array(embedded_sentence)\n",
    "        "
   ]
  },
  {
   "cell_type": "code",
   "execution_count": 32,
   "metadata": {},
   "outputs": [],
   "source": [
    "def embedding(word2vec, sentences):\n",
    "    embedding=[]\n",
    "    for sentence in sentences:\n",
    "        embedded_sentence = embed_sentence(word2vec, sentence)  \n",
    "        embedding.append(embedded_sentence)\n",
    "    return embedding"
   ]
  },
  {
   "cell_type": "code",
   "execution_count": 33,
   "metadata": {},
   "outputs": [],
   "source": [
    "def embedding_pipeline(word2vec, X):\n",
    "    # Step #3: Sentences to list of words\n",
    "    X = embedding(word2vec, X) \n",
    "    # Step #4: Pad the inputs\n",
    "    X = pad_sequences(X, dtype='float32', padding='post') \n",
    "    return X"
   ]
  },
  {
   "cell_type": "code",
   "execution_count": 38,
   "metadata": {},
   "outputs": [],
   "source": [
    "X_train_pad_w2v = embedding_pipeline(word2vec, sentence_train.values)\n",
    "X_test_pad_w2v = embedding_pipeline(word2vec, sentence_test.values)"
   ]
  },
  {
   "cell_type": "code",
   "execution_count": 39,
   "metadata": {},
   "outputs": [],
   "source": [
    "def init_model_w2v(vocab_size):\n",
    "\n",
    "    model = Sequential()\n",
    "\n",
    "    model.add(layers.Masking(mask_value=0.))\n",
    "    model.add(layers.GRU(units=13, activation='tanh')) \n",
    "    model.add(layers.Dense(64, activation='relu'))\n",
    "#     model.add(layers.Dropout(.2))\n",
    "    model.add(layers.Dense(1, activation='sigmoid'))\n",
    "\n",
    "    model.compile(loss= 'binary_crossentropy',  \n",
    "                  optimizer='rmsprop',\n",
    "                  metrics=['accuracy'])\n",
    "    \n",
    "    return model"
   ]
  },
  {
   "cell_type": "markdown",
   "metadata": {},
   "source": [
    "### Train word2vec on internal data"
   ]
  },
  {
   "cell_type": "code",
   "execution_count": 40,
   "metadata": {
    "collapsed": true
   },
   "outputs": [
    {
     "name": "stdout",
     "output_type": "stream",
     "text": [
      "Epoch 1/50\n",
      "782/782 [==============================] - 61s 79ms/step - loss: 0.6926 - accuracy: 0.5172 - val_loss: 0.6903 - val_accuracy: 0.5316\n",
      "Epoch 2/50\n",
      "782/782 [==============================] - 58s 74ms/step - loss: 0.6897 - accuracy: 0.5316 - val_loss: 0.6885 - val_accuracy: 0.5422\n",
      "Epoch 3/50\n",
      "782/782 [==============================] - 57s 72ms/step - loss: 0.6855 - accuracy: 0.5474 - val_loss: 0.6985 - val_accuracy: 0.5282\n",
      "Epoch 4/50\n",
      "782/782 [==============================] - 57s 73ms/step - loss: 0.6809 - accuracy: 0.5560 - val_loss: 0.6833 - val_accuracy: 0.5426\n",
      "Epoch 5/50\n",
      "782/782 [==============================] - 56s 72ms/step - loss: 0.6769 - accuracy: 0.5674 - val_loss: 0.6838 - val_accuracy: 0.5448\n",
      "Epoch 6/50\n",
      "782/782 [==============================] - 58s 75ms/step - loss: 0.6709 - accuracy: 0.5810 - val_loss: 0.6784 - val_accuracy: 0.5592\n",
      "Epoch 7/50\n",
      "782/782 [==============================] - 57s 73ms/step - loss: 0.6642 - accuracy: 0.5962 - val_loss: 0.6701 - val_accuracy: 0.5780\n",
      "Epoch 8/50\n",
      "782/782 [==============================] - 57s 73ms/step - loss: 0.6545 - accuracy: 0.6141 - val_loss: 0.6751 - val_accuracy: 0.5854\n",
      "Epoch 9/50\n",
      "782/782 [==============================] - 57s 72ms/step - loss: 0.6451 - accuracy: 0.6277 - val_loss: 0.6564 - val_accuracy: 0.6106\n",
      "Epoch 10/50\n",
      "782/782 [==============================] - 58s 74ms/step - loss: 0.6358 - accuracy: 0.6410 - val_loss: 0.6513 - val_accuracy: 0.6134\n",
      "Epoch 11/50\n",
      "782/782 [==============================] - 52s 67ms/step - loss: 0.6305 - accuracy: 0.6463 - val_loss: 0.6770 - val_accuracy: 0.5994\n",
      "Epoch 12/50\n",
      "782/782 [==============================] - 52s 67ms/step - loss: 0.6256 - accuracy: 0.6521 - val_loss: 0.6458 - val_accuracy: 0.6236\n",
      "Epoch 13/50\n",
      "782/782 [==============================] - 54s 69ms/step - loss: 0.6185 - accuracy: 0.6562 - val_loss: 0.6492 - val_accuracy: 0.6218\n",
      "Epoch 14/50\n",
      "782/782 [==============================] - 55s 71ms/step - loss: 0.6124 - accuracy: 0.6634 - val_loss: 0.6360 - val_accuracy: 0.6412\n",
      "Epoch 15/50\n",
      "782/782 [==============================] - 55s 71ms/step - loss: 0.6068 - accuracy: 0.6730 - val_loss: 0.6437 - val_accuracy: 0.6262\n",
      "Epoch 16/50\n",
      "782/782 [==============================] - 56s 71ms/step - loss: 0.6026 - accuracy: 0.6734 - val_loss: 0.6330 - val_accuracy: 0.6418\n",
      "Epoch 17/50\n",
      "782/782 [==============================] - 51s 65ms/step - loss: 0.5978 - accuracy: 0.6809 - val_loss: 0.6301 - val_accuracy: 0.6418\n",
      "Epoch 18/50\n",
      "782/782 [==============================] - 52s 66ms/step - loss: 0.5947 - accuracy: 0.6805 - val_loss: 0.6442 - val_accuracy: 0.6406\n",
      "Epoch 19/50\n",
      "782/782 [==============================] - 51s 65ms/step - loss: 0.5889 - accuracy: 0.6861 - val_loss: 0.6466 - val_accuracy: 0.6224\n",
      "Epoch 20/50\n",
      "782/782 [==============================] - 52s 66ms/step - loss: 0.5856 - accuracy: 0.6900 - val_loss: 0.6358 - val_accuracy: 0.6414\n",
      "Epoch 21/50\n",
      "782/782 [==============================] - 51s 66ms/step - loss: 0.5820 - accuracy: 0.6935 - val_loss: 0.6185 - val_accuracy: 0.6616\n",
      "Epoch 22/50\n",
      "782/782 [==============================] - 50s 65ms/step - loss: 0.5805 - accuracy: 0.6922 - val_loss: 0.6186 - val_accuracy: 0.6568\n",
      "Epoch 23/50\n",
      "782/782 [==============================] - 53s 68ms/step - loss: 0.5775 - accuracy: 0.6938 - val_loss: 0.6249 - val_accuracy: 0.6524\n",
      "Epoch 24/50\n",
      "782/782 [==============================] - 52s 67ms/step - loss: 0.5728 - accuracy: 0.6975 - val_loss: 0.6642 - val_accuracy: 0.6258\n",
      "Epoch 25/50\n",
      "782/782 [==============================] - 51s 65ms/step - loss: 0.5704 - accuracy: 0.7051 - val_loss: 0.6228 - val_accuracy: 0.6562\n",
      "Epoch 26/50\n",
      "782/782 [==============================] - 52s 66ms/step - loss: 0.5663 - accuracy: 0.7031 - val_loss: 0.6238 - val_accuracy: 0.6578\n",
      "Wall time: 23min 43s\n"
     ]
    }
   ],
   "source": [
    "%%time\n",
    "model_w2v = init_model_w2v(vocab_size)\n",
    "\n",
    "es = EarlyStopping(patience=5,restore_best_weights=True,monitor='val_accuracy')\n",
    "history_w2v = model_w2v.fit(X_train_pad_w2v, y_train,\n",
    "          validation_split= 2/7,\n",
    "          epochs=50, \n",
    "          batch_size=16, \n",
    "          verbose=1,\n",
    "          use_multiprocessing=True,\n",
    "          callbacks = [es])"
   ]
  },
  {
   "cell_type": "code",
   "execution_count": 42,
   "metadata": {},
   "outputs": [
    {
     "name": "stdout",
     "output_type": "stream",
     "text": [
      "235/235 [==============================] - 3s 14ms/step - loss: 0.6072 - accuracy: 0.6703\n",
      "accuracy 0.6702666878700256\n"
     ]
    },
    {
     "data": {
      "image/png": "[encoded data removed]",
      "text/plain": [
       "<Figure size 432x288 with 1 Axes>"
      ]
     },
     "metadata": {
      "needs_background": "light"
     },
     "output_type": "display_data"
    },
    {
     "data": {
      "image/png": "[encoded data removed]",
      "text/plain": [
       "<Figure size 432x288 with 1 Axes>"
      ]
     },
     "metadata": {
      "needs_background": "light"
     },
     "output_type": "display_data"
    }
   ],
   "source": [
    "print('accuracy', model_w2v.evaluate(X_test_pad_w2v,y_test)[1])\n",
    "plot_loss(history_w2v)"
   ]
  },
  {
   "cell_type": "markdown",
   "metadata": {},
   "source": [
    "### Train word2vec on Google news"
   ]
  },
  {
   "cell_type": "code",
   "execution_count": 59,
   "metadata": {},
   "outputs": [
    {
     "name": "stdout",
     "output_type": "stream",
     "text": [
      "Wall time: 0 ns\n"
     ]
    }
   ],
   "source": [
    "%%time\n",
    "import gensim.downloader as api"
   ]
  },
  {
   "cell_type": "code",
   "execution_count": 60,
   "metadata": {},
   "outputs": [],
   "source": [
    "word2vec_gnews = api.load(\"glove-twitter-100\")\n",
    "# word2vec_gnews = api.load(\"word2vec-google-news-300\") 300 embedding, probably very long to train, need to init another model, not sure where to input the 300 though"
   ]
  },
  {
   "cell_type": "code",
   "execution_count": 61,
   "metadata": {},
   "outputs": [
    {
     "name": "stderr",
     "output_type": "stream",
     "text": [
      "c:\\users\\cleme\\.venvs\\lewagon\\lib\\site-packages\\ipykernel_launcher.py:5: DeprecationWarning: Call to deprecated `wv` (Attribute will be removed in 4.0.0, use self instead).\n",
      "  \"\"\"\n",
      "c:\\users\\cleme\\.venvs\\lewagon\\lib\\site-packages\\ipykernel_launcher.py:6: DeprecationWarning: Call to deprecated `wv` (Attribute will be removed in 4.0.0, use self instead).\n",
      "  \n"
     ]
    }
   ],
   "source": [
    "X_train_pad_w2v_gnews = embedding_pipeline(word2vec_gnews, sentence_train[:10000].values)\n",
    "X_test_pad_w2v_gnews = embedding_pipeline(word2vec_gnews, sentence_test[:10000].values)"
   ]
  },
  {
   "cell_type": "code",
   "execution_count": 62,
   "metadata": {},
   "outputs": [
    {
     "data": {
      "text/plain": [
       "(17500, 173, 100)"
      ]
     },
     "execution_count": 62,
     "metadata": {},
     "output_type": "execute_result"
    }
   ],
   "source": [
    "X_train_pad_w2v.shape"
   ]
  },
  {
   "cell_type": "code",
   "execution_count": 63,
   "metadata": {},
   "outputs": [
    {
     "name": "stdout",
     "output_type": "stream",
     "text": [
      "Epoch 1/50\n",
      "447/447 [==============================] - 35s 78ms/step - loss: 0.5695 - accuracy: 0.6962 - val_loss: 0.6766 - val_accuracy: 0.6361\n",
      "Epoch 2/50\n",
      "447/447 [==============================] - 33s 75ms/step - loss: 0.5644 - accuracy: 0.6999 - val_loss: 0.6930 - val_accuracy: 0.6197\n",
      "Epoch 3/50\n",
      "447/447 [==============================] - 28s 64ms/step - loss: 0.5604 - accuracy: 0.7027 - val_loss: 0.6725 - val_accuracy: 0.6340\n",
      "Epoch 4/50\n",
      "447/447 [==============================] - 37s 82ms/step - loss: 0.5553 - accuracy: 0.7081 - val_loss: 0.7118 - val_accuracy: 0.6200\n",
      "Epoch 5/50\n",
      "447/447 [==============================] - 40s 90ms/step - loss: 0.5552 - accuracy: 0.7089 - val_loss: 0.6814 - val_accuracy: 0.6368\n",
      "Epoch 6/50\n",
      "447/447 [==============================] - 35s 78ms/step - loss: 0.5484 - accuracy: 0.7118 - val_loss: 0.6875 - val_accuracy: 0.6319\n",
      "Epoch 7/50\n",
      "447/447 [==============================] - 39s 88ms/step - loss: 0.5479 - accuracy: 0.7139 - val_loss: 0.6920 - val_accuracy: 0.6302\n",
      "Epoch 8/50\n",
      "447/447 [==============================] - 33s 74ms/step - loss: 0.5428 - accuracy: 0.7230 - val_loss: 0.6717 - val_accuracy: 0.6256\n",
      "Epoch 9/50\n",
      "447/447 [==============================] - 23s 52ms/step - loss: 0.5425 - accuracy: 0.7139 - val_loss: 0.6914 - val_accuracy: 0.6277\n",
      "Epoch 10/50\n",
      "447/447 [==============================] - 24s 53ms/step - loss: 0.5374 - accuracy: 0.7236 - val_loss: 0.6979 - val_accuracy: 0.6239\n",
      "Wall time: 5min 29s\n"
     ]
    }
   ],
   "source": [
    "%%time\n",
    "model_w2v_gnews = init_model_w2v(vocab_size)\n",
    "\n",
    "es = EarlyStopping(patience=10,restore_best_weights=True,monitor='val_accuracy')\n",
    "history_w2v_gnews = model_w2v.fit(X_train_pad_w2v_gnews, y_train,\n",
    "          validation_split= 2/7,\n",
    "          epochs=50, \n",
    "          batch_size=16, \n",
    "          verbose=1,\n",
    "          use_multiprocessing=True,\n",
    "          callbacks = [es])"
   ]
  },
  {
   "cell_type": "code",
   "execution_count": 69,
   "metadata": {},
   "outputs": [
    {
     "name": "stdout",
     "output_type": "stream",
     "text": [
      "235/235 [==============================] - 9s 36ms/step - loss: 0.6949 - accuracy: 0.4925 0s - loss: 0.6949 - accuracy: \n",
      "accuracy 0.4925333261489868\n"
     ]
    },
    {
     "data": {
      "image/png": "[encoded data removed]",
      "text/plain": [
       "<Figure size 432x288 with 1 Axes>"
      ]
     },
     "metadata": {
      "needs_background": "light"
     },
     "output_type": "display_data"
    },
    {
     "data": {
      "image/png": "[encoded data removed]",
      "text/plain": [
       "<Figure size 432x288 with 1 Axes>"
      ]
     },
     "metadata": {
      "needs_background": "light"
     },
     "output_type": "display_data"
    }
   ],
   "source": [
    "print('accuracy', model_w2v_gnews.evaluate(X_test_pad_w2v_gnews,y_test)[1])\n",
    "plot_loss(history_w2v_gnews)"
   ]
  },
  {
   "cell_type": "code",
   "execution_count": null,
   "metadata": {},
   "outputs": [],
   "source": [
    "# job save --- not working\n",
    "# import joblib\n",
    "\n",
    "# filename = 'model_emb_binary.joblib'\n",
    "# joblib.dump(model_emb, filename)\n",
    "\n",
    "# import pickle\n",
    "\n",
    "# filename = 'model_emb_binary.sav'\n",
    "# pickle.dump(model_emb, open(filename, 'wb'))"
   ]
  },
  {
   "cell_type": "markdown",
   "metadata": {},
   "source": [
    "## Evaluate"
   ]
  },
  {
   "cell_type": "code",
   "execution_count": 64,
   "metadata": {},
   "outputs": [
    {
     "name": "stdout",
     "output_type": "stream",
     "text": [
      "235/235 [==============================] - 5s 21ms/step - loss: 1.0352 - accuracy: 0.5673 0s - loss: 1.037\n",
      "w2v_internal accuracy: [1.0352450609207153, 0.5673333406448364]\n"
     ]
    }
   ],
   "source": [
    "print('w2v_internal accuracy:',model_w2v.evaluate(X_test_pad_w2v,y_test))"
   ]
  },
  {
   "cell_type": "code",
   "execution_count": 68,
   "metadata": {},
   "outputs": [
    {
     "name": "stdout",
     "output_type": "stream",
     "text": [
      "235/235 [==============================] - 4s 17ms/step - loss: 0.6660 - accuracy: 0.6381\n",
      "w2v_gnews accuracy: [0.6659895181655884, 0.6381333470344543]\n"
     ]
    }
   ],
   "source": [
    "print('w2v_gnews accuracy:',model_w2v.evaluate(X_test_pad_w2v_gnews,y_test))"
   ]
  },
  {
   "cell_type": "markdown",
   "metadata": {},
   "source": [
    "### Predict on London"
   ]
  },
  {
   "cell_type": "code",
   "execution_count": 73,
   "metadata": {},
   "outputs": [],
   "source": [
    "import nest_asyncio\n",
    "import sys\n",
    "from green_mood_tracker.twint_class import TWINT\n",
    "nest_asyncio.apply()"
   ]
  },
  {
   "cell_type": "code",
   "execution_count": 75,
   "metadata": {},
   "outputs": [],
   "source": [
    "import sys\n",
    "sys.path.insert(0, '../green_mood_tracker/')"
   ]
  },
  {
   "cell_type": "code",
   "execution_count": null,
   "metadata": {},
   "outputs": [],
   "source": [
    "kwargs = dict(\n",
    "    keywords=['nuclear'],\n",
    "    cities=['London'],\n",
    "    since = '2020-11-10 12:00:00',\n",
    "    limit=200,\n",
    "    file_path='../green_mood_tracker/data/london_nuclear.csv'\n",
    ")\n",
    "\n",
    "t = TWINT(**kwargs)\n",
    "\n",
    "df_city = t.city_csv()"
   ]
  },
  {
   "cell_type": "code",
   "execution_count": null,
   "metadata": {},
   "outputs": [],
   "source": [
    "! ls ../green_mood_tracker/data/"
   ]
  },
  {
   "cell_type": "code",
   "execution_count": null,
   "metadata": {},
   "outputs": [],
   "source": [
    "csv = pd.read_csv('../green_mood_tracker/data/london_nuclear.csv')"
   ]
  }
 ],
 "metadata": {
  "kernelspec": {
   "display_name": "Python 3",
   "language": "python",
   "name": "python3"
  },
  "language_info": {
   "codemirror_mode": {
    "name": "ipython",
    "version": 3
   },
   "file_extension": ".py",
   "mimetype": "text/x-python",
   "name": "python",
   "nbconvert_exporter": "python",
   "pygments_lexer": "ipython3",
   "version": "3.7.7"
  },
  "toc": {
   "base_numbering": 1,
   "nav_menu": {},
   "number_sections": true,
   "sideBar": true,
   "skip_h1_title": false,
   "title_cell": "Table of Contents",
   "title_sidebar": "Contents",
   "toc_cell": false,
   "toc_position": {},
   "toc_section_display": true,
   "toc_window_display": false
  },
  "varInspector": {
   "cols": {
    "lenName": 16,
    "lenType": 16,
    "lenVar": 40
   },
   "kernels_config": {
    "python": {
     "delete_cmd_postfix": "",
     "delete_cmd_prefix": "del ",
     "library": "var_list.py",
     "varRefreshCmd": "print(var_dic_list())"
    },
    "r": {
     "delete_cmd_postfix": ") ",
     "delete_cmd_prefix": "rm(",
     "library": "var_list.r",
     "varRefreshCmd": "cat(var_dic_list()) "
    }
   },
   "types_to_exclude": [
    "module",
    "function",
    "builtin_function_or_method",
    "instance",
    "_Feature"
   ],
   "window_display": false
  }
 },
 "nbformat": 4,
 "nbformat_minor": 4
}
