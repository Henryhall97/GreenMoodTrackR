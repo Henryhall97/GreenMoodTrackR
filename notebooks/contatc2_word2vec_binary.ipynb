{
 "cells": [
  {
   "cell_type": "code",
   "execution_count": 95,
   "metadata": {},
   "outputs": [
    {
     "name": "stdout",
     "output_type": "stream",
     "text": [
      "The autoreload extension is already loaded. To reload it, use:\n",
      "  %reload_ext autoreload\n"
     ]
    }
   ],
   "source": [
    "%load_ext autoreload\n",
    "%autoreload 2\n",
    "\n",
    "import pandas as pd\n",
    "import numpy as np\n",
    "import matplotlib.pyplot as plt\n",
    "import seaborn as sns\n",
    "\n",
    "from tensorflow.keras.preprocessing.sequence import pad_sequences\n",
    "from tensorflow.keras.models import Sequential\n",
    "from tensorflow.keras import layers\n",
    "from tensorflow.keras.callbacks import EarlyStopping\n",
    "from gensim.models import Word2Vec\n",
    "\n",
    "from green_mood_tracker.training_data import get_raw_data_notebook\n",
    "from green_mood_tracker.data_cleaning import clean"
   ]
  },
  {
   "cell_type": "markdown",
   "metadata": {},
   "source": [
    "## download and clean data"
   ]
  },
  {
   "cell_type": "code",
   "execution_count": 96,
   "metadata": {},
   "outputs": [
    {
     "name": "stdout",
     "output_type": "stream",
     "text": [
      "Wall time: 14.7 s\n"
     ]
    },
    {
     "data": {
      "text/html": [
       "<div>\n",
       "<style scoped>\n",
       "    .dataframe tbody tr th:only-of-type {\n",
       "        vertical-align: middle;\n",
       "    }\n",
       "\n",
       "    .dataframe tbody tr th {\n",
       "        vertical-align: top;\n",
       "    }\n",
       "\n",
       "    .dataframe thead th {\n",
       "        text-align: right;\n",
       "    }\n",
       "</style>\n",
       "<table border=\"1\" class=\"dataframe\">\n",
       "  <thead>\n",
       "    <tr style=\"text-align: right;\">\n",
       "      <th></th>\n",
       "      <th>id</th>\n",
       "      <th>text</th>\n",
       "      <th>polarity</th>\n",
       "      <th>source</th>\n",
       "    </tr>\n",
       "  </thead>\n",
       "  <tbody>\n",
       "    <tr>\n",
       "      <th>0</th>\n",
       "      <td>1467933112</td>\n",
       "      <td>the angel is going to miss the athlete this we...</td>\n",
       "      <td>0</td>\n",
       "      <td>sts_gold</td>\n",
       "    </tr>\n",
       "    <tr>\n",
       "      <th>1</th>\n",
       "      <td>2323395086</td>\n",
       "      <td>It looks as though Shaq is getting traded to C...</td>\n",
       "      <td>0</td>\n",
       "      <td>sts_gold</td>\n",
       "    </tr>\n",
       "    <tr>\n",
       "      <th>2</th>\n",
       "      <td>1467968979</td>\n",
       "      <td>@clarianne APRIL 9TH ISN'T COMING SOON ENOUGH</td>\n",
       "      <td>0</td>\n",
       "      <td>sts_gold</td>\n",
       "    </tr>\n",
       "    <tr>\n",
       "      <th>3</th>\n",
       "      <td>1990283756</td>\n",
       "      <td>drinking a McDonalds coffee and not understand...</td>\n",
       "      <td>0</td>\n",
       "      <td>sts_gold</td>\n",
       "    </tr>\n",
       "    <tr>\n",
       "      <th>4</th>\n",
       "      <td>1988884918</td>\n",
       "      <td>So dissapointed Taylor Swift doesnt have a Twi...</td>\n",
       "      <td>0</td>\n",
       "      <td>sts_gold</td>\n",
       "    </tr>\n",
       "  </tbody>\n",
       "</table>\n",
       "</div>"
      ],
      "text/plain": [
       "           id                                               text  polarity  \\\n",
       "0  1467933112  the angel is going to miss the athlete this we...         0   \n",
       "1  2323395086  It looks as though Shaq is getting traded to C...         0   \n",
       "2  1467968979     @clarianne APRIL 9TH ISN'T COMING SOON ENOUGH          0   \n",
       "3  1990283756  drinking a McDonalds coffee and not understand...         0   \n",
       "4  1988884918  So dissapointed Taylor Swift doesnt have a Twi...         0   \n",
       "\n",
       "     source  \n",
       "0  sts_gold  \n",
       "1  sts_gold  \n",
       "2  sts_gold  \n",
       "3  sts_gold  \n",
       "4  sts_gold  "
      ]
     },
     "execution_count": 96,
     "metadata": {},
     "output_type": "execute_result"
    }
   ],
   "source": [
    "%%time\n",
    "raw_data = get_raw_data_notebook(True)\n",
    "raw_data.head()"
   ]
  },
  {
   "cell_type": "code",
   "execution_count": 97,
   "metadata": {},
   "outputs": [
    {
     "data": {
      "text/plain": [
       "(1620501, 4)"
      ]
     },
     "execution_count": 97,
     "metadata": {},
     "output_type": "execute_result"
    }
   ],
   "source": [
    "raw_data.shape"
   ]
  },
  {
   "cell_type": "markdown",
   "metadata": {},
   "source": [
    "## Explore data"
   ]
  },
  {
   "cell_type": "code",
   "execution_count": 98,
   "metadata": {
    "scrolled": true
   },
   "outputs": [
    {
     "data": {
      "text/plain": [
       "sentiment140              1600000\n",
       "kaggle_sentiment_train      16363\n",
       "kaggle_sentiment_test        2104\n",
       "sts_gold                     2034\n",
       "Name: source, dtype: int64"
      ]
     },
     "execution_count": 98,
     "metadata": {},
     "output_type": "execute_result"
    }
   ],
   "source": [
    "raw_data.source.value_counts()"
   ]
  },
  {
   "cell_type": "code",
   "execution_count": 99,
   "metadata": {},
   "outputs": [
    {
     "data": {
      "text/plain": [
       "1    810317\n",
       "0    810184\n",
       "Name: polarity, dtype: int64"
      ]
     },
     "execution_count": 99,
     "metadata": {},
     "output_type": "execute_result"
    }
   ],
   "source": [
    "raw_data.polarity.value_counts()"
   ]
  },
  {
   "cell_type": "markdown",
   "metadata": {},
   "source": [
    "## sample data"
   ]
  },
  {
   "cell_type": "code",
   "execution_count": 100,
   "metadata": {},
   "outputs": [],
   "source": [
    "# data_sample = raw_data[raw_data.source == 'sts_gold']\n",
    "data_sample = raw_data[raw_data.source != 'sentiment140']"
   ]
  },
  {
   "cell_type": "code",
   "execution_count": 101,
   "metadata": {
    "scrolled": false
   },
   "outputs": [
    {
     "name": "stdout",
     "output_type": "stream",
     "text": [
      "Wall time: 4.99 s\n"
     ]
    },
    {
     "data": {
      "text/html": [
       "<div>\n",
       "<style scoped>\n",
       "    .dataframe tbody tr th:only-of-type {\n",
       "        vertical-align: middle;\n",
       "    }\n",
       "\n",
       "    .dataframe tbody tr th {\n",
       "        vertical-align: top;\n",
       "    }\n",
       "\n",
       "    .dataframe thead th {\n",
       "        text-align: right;\n",
       "    }\n",
       "</style>\n",
       "<table border=\"1\" class=\"dataframe\">\n",
       "  <thead>\n",
       "    <tr style=\"text-align: right;\">\n",
       "      <th></th>\n",
       "      <th>id</th>\n",
       "      <th>text</th>\n",
       "      <th>polarity</th>\n",
       "      <th>source</th>\n",
       "    </tr>\n",
       "  </thead>\n",
       "  <tbody>\n",
       "    <tr>\n",
       "      <th>0</th>\n",
       "      <td>1467933112</td>\n",
       "      <td>[angel, going, miss, athlete, weekend]</td>\n",
       "      <td>0</td>\n",
       "      <td>sts_gold</td>\n",
       "    </tr>\n",
       "    <tr>\n",
       "      <th>1</th>\n",
       "      <td>2323395086</td>\n",
       "      <td>[look, though, shaq, getting, traded, clevelan...</td>\n",
       "      <td>0</td>\n",
       "      <td>sts_gold</td>\n",
       "    </tr>\n",
       "    <tr>\n",
       "      <th>2</th>\n",
       "      <td>1467968979</td>\n",
       "      <td>[april, th, isnt, coming, soon, enough]</td>\n",
       "      <td>0</td>\n",
       "      <td>sts_gold</td>\n",
       "    </tr>\n",
       "    <tr>\n",
       "      <th>3</th>\n",
       "      <td>1990283756</td>\n",
       "      <td>[drinking, mcdonalds, coffee, understanding, s...</td>\n",
       "      <td>0</td>\n",
       "      <td>sts_gold</td>\n",
       "    </tr>\n",
       "    <tr>\n",
       "      <th>4</th>\n",
       "      <td>1988884918</td>\n",
       "      <td>[dissapointed, taylor, swift, doesnt, twitter]</td>\n",
       "      <td>0</td>\n",
       "      <td>sts_gold</td>\n",
       "    </tr>\n",
       "  </tbody>\n",
       "</table>\n",
       "</div>"
      ],
      "text/plain": [
       "           id                                               text  polarity  \\\n",
       "0  1467933112             [angel, going, miss, athlete, weekend]         0   \n",
       "1  2323395086  [look, though, shaq, getting, traded, clevelan...         0   \n",
       "2  1467968979            [april, th, isnt, coming, soon, enough]         0   \n",
       "3  1990283756  [drinking, mcdonalds, coffee, understanding, s...         0   \n",
       "4  1988884918     [dissapointed, taylor, swift, doesnt, twitter]         0   \n",
       "\n",
       "     source  \n",
       "0  sts_gold  \n",
       "1  sts_gold  \n",
       "2  sts_gold  \n",
       "3  sts_gold  \n",
       "4  sts_gold  "
      ]
     },
     "execution_count": 101,
     "metadata": {},
     "output_type": "execute_result"
    }
   ],
   "source": [
    "%%time\n",
    "data_sample_clean = clean(data_sample,'text')\n",
    "data_sample_clean.head()"
   ]
  },
  {
   "cell_type": "markdown",
   "metadata": {},
   "source": [
    "## split data Train/Test"
   ]
  },
  {
   "cell_type": "code",
   "execution_count": 125,
   "metadata": {},
   "outputs": [],
   "source": [
    "from sklearn.model_selection import train_test_split\n",
    "\n",
    "X = data_sample_clean.text.map(lambda x: x.split())\n",
    "y = data_sample_clean.polarity"
   ]
  },
  {
   "cell_type": "code",
   "execution_count": 126,
   "metadata": {},
   "outputs": [],
   "source": [
    "sentence_train, sentence_test, y_train, y_test = train_test_split(X, y, test_size=0.20, random_state = 0)"
   ]
  },
  {
   "cell_type": "code",
   "execution_count": 127,
   "metadata": {},
   "outputs": [],
   "source": [
    "def plot_loss(history):\n",
    "    plt.plot(history.history['loss'])\n",
    "    plt.plot(history.history['val_loss'])\n",
    "    plt.title('Model loss')\n",
    "    plt.ylabel('Mean Square Error - Loss')\n",
    "    plt.xlabel('Epoch')\n",
    "    plt.legend(['Train', 'Validation'], loc='best')\n",
    "    plt.show()\n",
    "    \n",
    "    plt.plot(history.history['accuracy'])\n",
    "    plt.plot(history.history['val_accuracy'])\n",
    "    plt.title('Model Accuracy')\n",
    "    plt.ylabel('Accuracy')\n",
    "    plt.xlabel('Epoch')\n",
    "    plt.legend(['Train', 'Validation'], loc='best')\n",
    "    plt.show()"
   ]
  },
  {
   "cell_type": "markdown",
   "metadata": {},
   "source": [
    "## word2vec"
   ]
  },
  {
   "cell_type": "code",
   "execution_count": 128,
   "metadata": {},
   "outputs": [],
   "source": [
    "# word2vec = Word2Vec(sentences=sentence_train)\n",
    "# vocab_size=len(word2vec.wv.vocab.keys())"
   ]
  },
  {
   "cell_type": "code",
   "execution_count": 129,
   "metadata": {},
   "outputs": [
    {
     "data": {
      "text/plain": [
       "2871"
      ]
     },
     "execution_count": 129,
     "metadata": {},
     "output_type": "execute_result"
    }
   ],
   "source": [
    "# vocab_size"
   ]
  },
  {
   "cell_type": "code",
   "execution_count": 130,
   "metadata": {},
   "outputs": [],
   "source": [
    "def embed_sentence(word2vec, sentence):\n",
    "    embedded=[]\n",
    "    embedded_sentence = []\n",
    "    for word in sentence:\n",
    "         if word in word2vec.wv.vocab.keys():\n",
    "             vector = word2vec.wv[word]\n",
    "             embedded_sentence.append(vector)                 \n",
    "    return np.array(embedded_sentence)\n",
    "        "
   ]
  },
  {
   "cell_type": "code",
   "execution_count": 131,
   "metadata": {},
   "outputs": [],
   "source": [
    "def embedding(word2vec, sentences):\n",
    "    embedding=[]\n",
    "    for sentence in sentences:\n",
    "        embedded_sentence = embed_sentence(word2vec, sentence)  \n",
    "        embedding.append(embedded_sentence)\n",
    "    return embedding"
   ]
  },
  {
   "cell_type": "code",
   "execution_count": 132,
   "metadata": {},
   "outputs": [],
   "source": [
    "def embedding_pipeline(word2vec, X):\n",
    "    # Step #3: Sentences to list of words\n",
    "    X = embedding(word2vec, X) \n",
    "    # Step #4: Pad the inputs\n",
    "    X = pad_sequences(X, dtype='float32', padding='post') \n",
    "    return X"
   ]
  },
  {
   "cell_type": "code",
   "execution_count": 148,
   "metadata": {},
   "outputs": [],
   "source": [
    "# X_train_pad_w2v = embedding_pipeline(word2vec, sentence_train.values)\n",
    "# X_test_pad_w2v = embedding_pipeline(word2vec, sentence_test.values)"
   ]
  },
  {
   "cell_type": "code",
   "execution_count": 220,
   "metadata": {},
   "outputs": [],
   "source": [
    "def init_model_w2v():\n",
    "\n",
    "    model = Sequential()\n",
    "\n",
    "    model.add(layers.Masking(mask_value=0.))\n",
    "    model.add(layers.GRU(units=32, activation='tanh', return_sequences=True)) \n",
    "    model.add(layers.GRU(units=16, activation='tanh')) \n",
    "    model.add(layers.Dense(32, activation='relu'))\n",
    "    model.add(layers.Dropout(.5))\n",
    "    model.add(layers.Dense(1, activation='sigmoid'))\n",
    "\n",
    "    model.compile(loss= 'binary_crossentropy',  \n",
    "                  optimizer='rmsprop',\n",
    "                  metrics=['accuracy'])\n",
    "    \n",
    "    return model"
   ]
  },
  {
   "cell_type": "markdown",
   "metadata": {},
   "source": [
    "### Train word2vec on internal data"
   ]
  },
  {
   "cell_type": "code",
   "execution_count": 150,
   "metadata": {},
   "outputs": [],
   "source": [
    "# %%time\n",
    "# model_w2v = init_model_w2v()\n",
    "\n",
    "# es = EarlyStopping(patience=5,restore_best_weights=True,monitor='val_accuracy')\n",
    "# history_w2v = model_w2v.fit(X_train_pad_w2v, y_train,\n",
    "#           validation_split= 2/7,\n",
    "#           epochs=50, \n",
    "#           batch_size=32, \n",
    "#           verbose=1,\n",
    "#           use_multiprocessing=True,\n",
    "#           callbacks = [es])"
   ]
  },
  {
   "cell_type": "code",
   "execution_count": 151,
   "metadata": {},
   "outputs": [],
   "source": [
    "# print('accuracy', model_w2v.evaluate(X_test_pad_w2v,y_test)[1])\n",
    "# plot_loss(history_w2v)"
   ]
  },
  {
   "cell_type": "markdown",
   "metadata": {},
   "source": [
    "### Train word2vec on Google news"
   ]
  },
  {
   "cell_type": "code",
   "execution_count": 152,
   "metadata": {},
   "outputs": [
    {
     "name": "stdout",
     "output_type": "stream",
     "text": [
      "Wall time: 0 ns\n"
     ]
    }
   ],
   "source": [
    "%%time\n",
    "import gensim.downloader as api"
   ]
  },
  {
   "cell_type": "code",
   "execution_count": 153,
   "metadata": {},
   "outputs": [
    {
     "name": "stdout",
     "output_type": "stream",
     "text": [
      "Wall time: 1min 26s\n"
     ]
    }
   ],
   "source": [
    "%%time\n",
    "word2vec_gnews = api.load(\"word2vec-google-news-300\")"
   ]
  },
  {
   "cell_type": "code",
   "execution_count": 154,
   "metadata": {},
   "outputs": [
    {
     "name": "stderr",
     "output_type": "stream",
     "text": [
      "c:\\users\\cleme\\.venvs\\lewagon\\lib\\site-packages\\ipykernel_launcher.py:5: DeprecationWarning: Call to deprecated `wv` (Attribute will be removed in 4.0.0, use self instead).\n",
      "  \"\"\"\n",
      "c:\\users\\cleme\\.venvs\\lewagon\\lib\\site-packages\\ipykernel_launcher.py:6: DeprecationWarning: Call to deprecated `wv` (Attribute will be removed in 4.0.0, use self instead).\n",
      "  \n"
     ]
    }
   ],
   "source": [
    "X_train_pad_w2v_gnews = embedding_pipeline(word2vec_gnews, sentence_train.values)\n",
    "X_test_pad_w2v_gnews = embedding_pipeline(word2vec_gnews, sentence_test.values)"
   ]
  },
  {
   "cell_type": "code",
   "execution_count": 155,
   "metadata": {},
   "outputs": [
    {
     "data": {
      "text/plain": [
       "(4101, 19, 300)"
      ]
     },
     "execution_count": 155,
     "metadata": {},
     "output_type": "execute_result"
    }
   ],
   "source": [
    "X_test_pad_w2v_gnews.shape"
   ]
  },
  {
   "cell_type": "code",
   "execution_count": 156,
   "metadata": {},
   "outputs": [
    {
     "name": "stderr",
     "output_type": "stream",
     "text": [
      "c:\\users\\cleme\\.venvs\\lewagon\\lib\\site-packages\\ipykernel_launcher.py:1: DeprecationWarning: Call to deprecated `wv` (Attribute will be removed in 4.0.0, use self instead).\n",
      "  \"\"\"Entry point for launching an IPython kernel.\n"
     ]
    },
    {
     "data": {
      "text/plain": [
       "3000000"
      ]
     },
     "execution_count": 156,
     "metadata": {},
     "output_type": "execute_result"
    }
   ],
   "source": [
    "len(word2vec_gnews.wv.vocab)"
   ]
  },
  {
   "cell_type": "code",
   "execution_count": 221,
   "metadata": {},
   "outputs": [
    {
     "name": "stdout",
     "output_type": "stream",
     "text": [
      "Epoch 1/50\n",
      "367/367 [==============================] - 6s 16ms/step - loss: 0.4500 - accuracy: 0.8026 - val_loss: 0.3442 - val_accuracy: 0.8566\n",
      "Epoch 2/50\n",
      "367/367 [==============================] - 5s 14ms/step - loss: 0.3468 - accuracy: 0.8597 - val_loss: 0.3144 - val_accuracy: 0.8730\n",
      "Epoch 3/50\n",
      "367/367 [==============================] - 5s 14ms/step - loss: 0.3182 - accuracy: 0.8711 - val_loss: 0.3031 - val_accuracy: 0.8747\n",
      "Epoch 4/50\n",
      "367/367 [==============================] - 5s 14ms/step - loss: 0.2972 - accuracy: 0.8794 - val_loss: 0.2993 - val_accuracy: 0.8760\n",
      "Epoch 5/50\n",
      "367/367 [==============================] - 5s 14ms/step - loss: 0.2829 - accuracy: 0.8859 - val_loss: 0.3329 - val_accuracy: 0.8600\n",
      "Epoch 6/50\n",
      "367/367 [==============================] - 5s 14ms/step - loss: 0.2655 - accuracy: 0.8869 - val_loss: 0.3391 - val_accuracy: 0.8634\n",
      "Epoch 7/50\n",
      "367/367 [==============================] - 5s 14ms/step - loss: 0.2537 - accuracy: 0.8971 - val_loss: 0.3075 - val_accuracy: 0.8784\n",
      "Epoch 8/50\n",
      "367/367 [==============================] - 5s 15ms/step - loss: 0.2386 - accuracy: 0.9000 - val_loss: 0.3563 - val_accuracy: 0.8555\n",
      "Epoch 9/50\n",
      "367/367 [==============================] - 5s 15ms/step - loss: 0.2258 - accuracy: 0.9087 - val_loss: 0.3477 - val_accuracy: 0.8779\n",
      "Epoch 10/50\n",
      "367/367 [==============================] - 6s 15ms/step - loss: 0.2082 - accuracy: 0.9159 - val_loss: 0.3538 - val_accuracy: 0.8739\n",
      "Epoch 11/50\n",
      "367/367 [==============================] - 5s 15ms/step - loss: 0.1956 - accuracy: 0.9197 - val_loss: 0.3924 - val_accuracy: 0.8683\n",
      "Epoch 12/50\n",
      "367/367 [==============================] - 5s 15ms/step - loss: 0.1808 - accuracy: 0.9262 - val_loss: 0.4039 - val_accuracy: 0.8730\n",
      "Epoch 13/50\n",
      "367/367 [==============================] - 5s 15ms/step - loss: 0.1687 - accuracy: 0.9333 - val_loss: 0.4654 - val_accuracy: 0.8668\n",
      "Epoch 14/50\n",
      "367/367 [==============================] - 5s 15ms/step - loss: 0.1525 - accuracy: 0.9381 - val_loss: 0.4992 - val_accuracy: 0.8660\n",
      "Epoch 15/50\n",
      "367/367 [==============================] - 5s 15ms/step - loss: 0.1369 - accuracy: 0.9456 - val_loss: 0.5513 - val_accuracy: 0.8632\n",
      "Epoch 16/50\n",
      "367/367 [==============================] - 6s 15ms/step - loss: 0.1252 - accuracy: 0.9480 - val_loss: 0.6431 - val_accuracy: 0.8585\n",
      "Epoch 17/50\n",
      "367/367 [==============================] - 6s 16ms/step - loss: 0.1129 - accuracy: 0.9535 - val_loss: 0.6252 - val_accuracy: 0.8621\n",
      "Wall time: 1min 35s\n"
     ]
    }
   ],
   "source": [
    "%%time\n",
    "model_w2v_gnews = init_model_w2v()\n",
    "\n",
    "es = EarlyStopping(patience=10,restore_best_weights=True,monitor='val_accuracy')\n",
    "history_w2v_gnews = model_w2v_gnews.fit(X_train_pad_w2v_gnews, y_train,\n",
    "          validation_split= 2/7,\n",
    "          epochs=50, \n",
    "          batch_size=32, \n",
    "          verbose=1,\n",
    "          use_multiprocessing=True,\n",
    "          callbacks = [es])"
   ]
  },
  {
   "cell_type": "code",
   "execution_count": 237,
   "metadata": {},
   "outputs": [
    {
     "name": "stdout",
     "output_type": "stream",
     "text": [
      "129/129 [==============================] - 1s 10ms/step - loss: 0.3143 - accuracy: 0.8747\n",
      "accuracy 0.8746647238731384\n"
     ]
    },
    {
     "data": {
      "image/png": "[encoded data removed]",
      "text/plain": [
       "<Figure size 432x288 with 1 Axes>"
      ]
     },
     "metadata": {
      "needs_background": "light"
     },
     "output_type": "display_data"
    },
    {
     "data": {
      "image/png": "[encoded data removed]",
      "text/plain": [
       "<Figure size 432x288 with 1 Axes>"
      ]
     },
     "metadata": {
      "needs_background": "light"
     },
     "output_type": "display_data"
    }
   ],
   "source": [
    "print('accuracy', model_w2v_gnews.evaluate(X_test_pad_w2v_gnews,y_test)[1])\n",
    "plot_loss(history_w2v_gnews)"
   ]
  },
  {
   "cell_type": "code",
   "execution_count": 238,
   "metadata": {},
   "outputs": [
    {
     "name": "stdout",
     "output_type": "stream",
     "text": [
      "Wall time: 2min 5s\n"
     ]
    }
   ],
   "source": [
    "%%time\n",
    "word2vec_glove = api.load(\"glove-twitter-100\")"
   ]
  },
  {
   "cell_type": "code",
   "execution_count": 239,
   "metadata": {},
   "outputs": [
    {
     "name": "stderr",
     "output_type": "stream",
     "text": [
      "c:\\users\\cleme\\.venvs\\lewagon\\lib\\site-packages\\ipykernel_launcher.py:1: DeprecationWarning: Call to deprecated `wv` (Attribute will be removed in 4.0.0, use self instead).\n",
      "  \"\"\"Entry point for launching an IPython kernel.\n"
     ]
    },
    {
     "data": {
      "text/plain": [
       "1193514"
      ]
     },
     "execution_count": 239,
     "metadata": {},
     "output_type": "execute_result"
    }
   ],
   "source": [
    "len(word2vec_glove.wv.vocab)"
   ]
  },
  {
   "cell_type": "code",
   "execution_count": 240,
   "metadata": {},
   "outputs": [
    {
     "name": "stderr",
     "output_type": "stream",
     "text": [
      "c:\\users\\cleme\\.venvs\\lewagon\\lib\\site-packages\\ipykernel_launcher.py:5: DeprecationWarning: Call to deprecated `wv` (Attribute will be removed in 4.0.0, use self instead).\n",
      "  \"\"\"\n",
      "c:\\users\\cleme\\.venvs\\lewagon\\lib\\site-packages\\ipykernel_launcher.py:6: DeprecationWarning: Call to deprecated `wv` (Attribute will be removed in 4.0.0, use self instead).\n",
      "  \n"
     ]
    }
   ],
   "source": [
    "X_train_pad_w2v_glove = embedding_pipeline(word2vec_glove, sentence_train.values)\n",
    "X_test_pad_w2v_glove = embedding_pipeline(word2vec_glove, sentence_test.values)"
   ]
  },
  {
   "cell_type": "code",
   "execution_count": 241,
   "metadata": {},
   "outputs": [
    {
     "name": "stdout",
     "output_type": "stream",
     "text": [
      "Epoch 1/50\n",
      "367/367 [==============================] - 7s 18ms/step - loss: 0.4420 - accuracy: 0.8004 - val_loss: 0.3377 - val_accuracy: 0.8566\n",
      "Epoch 2/50\n",
      "367/367 [==============================] - 8s 21ms/step - loss: 0.3377 - accuracy: 0.8609 - val_loss: 0.3144 - val_accuracy: 0.8673\n",
      "Epoch 3/50\n",
      "367/367 [==============================] - 7s 20ms/step - loss: 0.3090 - accuracy: 0.8748 - val_loss: 0.3274 - val_accuracy: 0.8579\n",
      "Epoch 4/50\n",
      "367/367 [==============================] - 10s 26ms/step - loss: 0.2917 - accuracy: 0.8814 - val_loss: 0.3400 - val_accuracy: 0.8570\n",
      "Epoch 5/50\n",
      "367/367 [==============================] - 7s 20ms/step - loss: 0.2754 - accuracy: 0.8853 - val_loss: 0.3316 - val_accuracy: 0.8585\n",
      "Epoch 6/50\n",
      "367/367 [==============================] - 7s 20ms/step - loss: 0.2603 - accuracy: 0.8924 - val_loss: 0.3157 - val_accuracy: 0.8754\n",
      "Epoch 7/50\n",
      "367/367 [==============================] - 7s 19ms/step - loss: 0.2511 - accuracy: 0.8999 - val_loss: 0.3461 - val_accuracy: 0.8664\n",
      "Epoch 8/50\n",
      "367/367 [==============================] - 7s 19ms/step - loss: 0.2405 - accuracy: 0.9023 - val_loss: 0.3479 - val_accuracy: 0.8638\n",
      "Epoch 9/50\n",
      "367/367 [==============================] - 7s 20ms/step - loss: 0.2251 - accuracy: 0.9093 - val_loss: 0.3527 - val_accuracy: 0.8717\n",
      "Epoch 10/50\n",
      "367/367 [==============================] - 7s 20ms/step - loss: 0.2157 - accuracy: 0.9173 - val_loss: 0.3406 - val_accuracy: 0.8694\n",
      "Epoch 11/50\n",
      "367/367 [==============================] - 7s 19ms/step - loss: 0.2025 - accuracy: 0.9196 - val_loss: 0.3662 - val_accuracy: 0.8681\n",
      "Epoch 12/50\n",
      "367/367 [==============================] - 7s 20ms/step - loss: 0.1869 - accuracy: 0.9262 - val_loss: 0.4143 - val_accuracy: 0.8611\n",
      "Epoch 13/50\n",
      "367/367 [==============================] - 7s 20ms/step - loss: 0.1727 - accuracy: 0.9322 - val_loss: 0.4524 - val_accuracy: 0.8421\n",
      "Epoch 14/50\n",
      "367/367 [==============================] - 7s 20ms/step - loss: 0.1597 - accuracy: 0.9344 - val_loss: 0.4324 - val_accuracy: 0.8581\n",
      "Epoch 15/50\n",
      "367/367 [==============================] - 7s 19ms/step - loss: 0.1497 - accuracy: 0.9415 - val_loss: 0.4963 - val_accuracy: 0.8419\n",
      "Epoch 16/50\n",
      "367/367 [==============================] - 7s 20ms/step - loss: 0.1367 - accuracy: 0.9473 - val_loss: 0.4674 - val_accuracy: 0.8568\n",
      "Wall time: 2min 2s\n"
     ]
    }
   ],
   "source": [
    "%%time\n",
    "model_w2v_glove = init_model_w2v()\n",
    "\n",
    "es = EarlyStopping(patience=10,restore_best_weights=True,monitor='val_accuracy')\n",
    "history_w2v_glove = model_w2v_glove.fit(X_train_pad_w2v_glove, y_train,\n",
    "          validation_split= 2/7,\n",
    "          epochs=50, \n",
    "          batch_size=32, \n",
    "          verbose=1,\n",
    "          use_multiprocessing=True,\n",
    "          callbacks = [es])"
   ]
  },
  {
   "cell_type": "code",
   "execution_count": 242,
   "metadata": {},
   "outputs": [
    {
     "name": "stdout",
     "output_type": "stream",
     "text": [
      "129/129 [==============================] - 1s 5ms/step - loss: 0.3202 - accuracy: 0.8761\n",
      "accuracy 0.8761277794837952\n"
     ]
    },
    {
     "data": {
      "image/png": "[encoded data removed]",
      "text/plain": [
       "<Figure size 432x288 with 1 Axes>"
      ]
     },
     "metadata": {
      "needs_background": "light"
     },
     "output_type": "display_data"
    },
    {
     "data": {
      "image/png": "[encoded data removed]",
      "text/plain": [
       "<Figure size 432x288 with 1 Axes>"
      ]
     },
     "metadata": {
      "needs_background": "light"
     },
     "output_type": "display_data"
    }
   ],
   "source": [
    "print('accuracy', model_w2v_glove.evaluate(X_test_pad_w2v_glove,y_test)[1])\n",
    "plot_loss(history_w2v_glove)"
   ]
  },
  {
   "cell_type": "code",
   "execution_count": 243,
   "metadata": {},
   "outputs": [],
   "source": [
    "# job save --- not working\n",
    "# import joblib\n",
    "\n",
    "# filename = 'model_emb_binary.joblib'\n",
    "# joblib.dump(model_emb, filename)\n",
    "\n",
    "# import pickle\n",
    "\n",
    "# filename = 'model_emb_binary.sav'\n",
    "# pickle.dump(model_emb, open(filename, 'wb'))"
   ]
  },
  {
   "cell_type": "markdown",
   "metadata": {},
   "source": [
    "## Evaluate"
   ]
  },
  {
   "cell_type": "code",
   "execution_count": 244,
   "metadata": {},
   "outputs": [],
   "source": [
    "# print('w2v_internal accuracy:',model_w2v.evaluate(X_test_pad_w2v,y_test))"
   ]
  },
  {
   "cell_type": "code",
   "execution_count": 245,
   "metadata": {},
   "outputs": [],
   "source": [
    "# print('w2v_gnews accuracy:',model_w2v_gnews.evaluate(X_test_pad_w2v_gnews,y_test))"
   ]
  },
  {
   "cell_type": "markdown",
   "metadata": {},
   "source": [
    "### Predict on London"
   ]
  },
  {
   "cell_type": "code",
   "execution_count": 246,
   "metadata": {},
   "outputs": [],
   "source": [
    "# csv = pd.read_csv('../green_mood_tracker/data/london_nuclear.csv')"
   ]
  },
  {
   "cell_type": "code",
   "execution_count": null,
   "metadata": {},
   "outputs": [],
   "source": []
  }
 ],
 "metadata": {
  "kernelspec": {
   "display_name": "Python 3",
   "language": "python",
   "name": "python3"
  },
  "language_info": {
   "codemirror_mode": {
    "name": "ipython",
    "version": 3
   },
   "file_extension": ".py",
   "mimetype": "text/x-python",
   "name": "python",
   "nbconvert_exporter": "python",
   "pygments_lexer": "ipython3",
   "version": "3.7.7"
  },
  "toc": {
   "base_numbering": 1,
   "nav_menu": {},
   "number_sections": true,
   "sideBar": true,
   "skip_h1_title": false,
   "title_cell": "Table of Contents",
   "title_sidebar": "Contents",
   "toc_cell": false,
   "toc_position": {},
   "toc_section_display": true,
   "toc_window_display": false
  },
  "varInspector": {
   "cols": {
    "lenName": 16,
    "lenType": 16,
    "lenVar": 40
   },
   "kernels_config": {
    "python": {
     "delete_cmd_postfix": "",
     "delete_cmd_prefix": "del ",
     "library": "var_list.py",
     "varRefreshCmd": "print(var_dic_list())"
    },
    "r": {
     "delete_cmd_postfix": ") ",
     "delete_cmd_prefix": "rm(",
     "library": "var_list.r",
     "varRefreshCmd": "cat(var_dic_list()) "
    }
   },
   "types_to_exclude": [
    "module",
    "function",
    "builtin_function_or_method",
    "instance",
    "_Feature"
   ],
   "window_display": false
  }
 },
 "nbformat": 4,
 "nbformat_minor": 4
}
