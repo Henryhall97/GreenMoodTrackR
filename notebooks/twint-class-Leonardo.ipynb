{
 "cells": [
  {
   "cell_type": "markdown",
   "metadata": {},
   "source": [
    "# Twint Data Collection"
   ]
  },
  {
   "cell_type": "markdown",
   "metadata": {
    "heading_collapsed": true
   },
   "source": [
    "## Import and configs"
   ]
  },
  {
   "cell_type": "code",
   "execution_count": 24,
   "metadata": {
    "hidden": true
   },
   "outputs": [
    {
     "name": "stdout",
     "output_type": "stream",
     "text": [
      "The autoreload extension is already loaded. To reload it, use:\n",
      "  %reload_ext autoreload\n"
     ]
    }
   ],
   "source": [
    "import nest_asyncio\n",
    "import twint\n",
    "import pandas as pd\n",
    "\n",
    "nest_asyncio.apply()\n",
    "\n",
    "%load_ext autoreload\n",
    "%autoreload 2"
   ]
  },
  {
   "cell_type": "code",
   "execution_count": 25,
   "metadata": {
    "hidden": true
   },
   "outputs": [],
   "source": [
    "import sys\n",
    "sys.path.insert(0, '../green_mood_tracker/')\n",
    "from twint_class import TWINT"
   ]
  },
  {
   "cell_type": "code",
   "execution_count": 26,
   "metadata": {
    "hidden": true
   },
   "outputs": [
    {
     "name": "stdout",
     "output_type": "stream",
     "text": [
      "Henryhall_Dataset_download.ipynb resume.txt\r\n",
      "city_Dataset.csv                 twint-test.ipynb\r\n",
      "data_cleaning.ipynb\r\n"
     ]
    }
   ],
   "source": [
    "!ls"
   ]
  },
  {
   "cell_type": "code",
   "execution_count": 27,
   "metadata": {
    "hidden": true
   },
   "outputs": [
    {
     "name": "stdout",
     "output_type": "stream",
     "text": [
      "/Users/leonardogavaudan/code/leonardogavaudan/green_mood_tracker/notebooks\r\n"
     ]
    }
   ],
   "source": [
    "!pwd"
   ]
  },
  {
   "cell_type": "markdown",
   "metadata": {
    "heading_collapsed": true
   },
   "source": [
    "## General Search Function (without cities)"
   ]
  },
  {
   "cell_type": "markdown",
   "metadata": {
    "heading_collapsed": true,
    "hidden": true
   },
   "source": [
    "### search()"
   ]
  },
  {
   "cell_type": "code",
   "execution_count": 267,
   "metadata": {
    "hidden": true
   },
   "outputs": [],
   "source": [
    "kwargs = dict(\n",
    "        username='EmmanuelMacron',\n",
    "        search='nuclear',\n",
    "        since=False,\n",
    "        cities=False,\n",
    "        file_path=False,\n",
    "        limit=100\n",
    "    )\n",
    "    \n",
    "t = TWINT(**kwargs)\n",
    "\n",
    "df = t.search()"
   ]
  },
  {
   "cell_type": "code",
   "execution_count": 260,
   "metadata": {
    "hidden": true
   },
   "outputs": [
    {
     "data": {
      "text/html": [
       "<div>\n",
       "<style scoped>\n",
       "    .dataframe tbody tr th:only-of-type {\n",
       "        vertical-align: middle;\n",
       "    }\n",
       "\n",
       "    .dataframe tbody tr th {\n",
       "        vertical-align: top;\n",
       "    }\n",
       "\n",
       "    .dataframe thead th {\n",
       "        text-align: right;\n",
       "    }\n",
       "</style>\n",
       "<table border=\"1\" class=\"dataframe\">\n",
       "  <thead>\n",
       "    <tr style=\"text-align: right;\">\n",
       "      <th></th>\n",
       "      <th>cashtags</th>\n",
       "      <th>conversation_id</th>\n",
       "      <th>created_at</th>\n",
       "      <th>date</th>\n",
       "      <th>day</th>\n",
       "      <th>geo</th>\n",
       "      <th>hashtags</th>\n",
       "      <th>hour</th>\n",
       "      <th>id</th>\n",
       "      <th>language</th>\n",
       "      <th>...</th>\n",
       "      <th>trans_src</th>\n",
       "      <th>translate</th>\n",
       "      <th>tweet</th>\n",
       "      <th>urls</th>\n",
       "      <th>user_id</th>\n",
       "      <th>user_id_str</th>\n",
       "      <th>user_rt</th>\n",
       "      <th>user_rt_id</th>\n",
       "      <th>username</th>\n",
       "      <th>video</th>\n",
       "    </tr>\n",
       "  </thead>\n",
       "  <tbody>\n",
       "    <tr>\n",
       "      <th>0</th>\n",
       "      <td>[]</td>\n",
       "      <td>1331009579879178241</td>\n",
       "      <td>1.606172e+12</td>\n",
       "      <td>2020-11-23 22:59:47</td>\n",
       "      <td>1</td>\n",
       "      <td></td>\n",
       "      <td>[]</td>\n",
       "      <td>22</td>\n",
       "      <td>1331009579879178241</td>\n",
       "      <td>en</td>\n",
       "      <td>...</td>\n",
       "      <td></td>\n",
       "      <td></td>\n",
       "      <td>I spoke with @JacindaArdern. We must work with...</td>\n",
       "      <td>[]</td>\n",
       "      <td>1976143068</td>\n",
       "      <td>1976143068</td>\n",
       "      <td></td>\n",
       "      <td></td>\n",
       "      <td>EmmanuelMacron</td>\n",
       "      <td>0</td>\n",
       "    </tr>\n",
       "    <tr>\n",
       "      <th>2</th>\n",
       "      <td>[]</td>\n",
       "      <td>1330587567918632962</td>\n",
       "      <td>1.606072e+12</td>\n",
       "      <td>2020-11-22 19:02:51</td>\n",
       "      <td>7</td>\n",
       "      <td></td>\n",
       "      <td>[]</td>\n",
       "      <td>19</td>\n",
       "      <td>1330587567918632962</td>\n",
       "      <td>en</td>\n",
       "      <td>...</td>\n",
       "      <td></td>\n",
       "      <td></td>\n",
       "      <td>The initiatives taken by France are now on the...</td>\n",
       "      <td>[]</td>\n",
       "      <td>1976143068</td>\n",
       "      <td>1976143068</td>\n",
       "      <td></td>\n",
       "      <td></td>\n",
       "      <td>EmmanuelMacron</td>\n",
       "      <td>1</td>\n",
       "    </tr>\n",
       "  </tbody>\n",
       "</table>\n",
       "<p>2 rows × 38 columns</p>\n",
       "</div>"
      ],
      "text/plain": [
       "  cashtags      conversation_id    created_at                 date  day geo  \\\n",
       "0       []  1331009579879178241  1.606172e+12  2020-11-23 22:59:47    1       \n",
       "2       []  1330587567918632962  1.606072e+12  2020-11-22 19:02:51    7       \n",
       "\n",
       "  hashtags hour                   id language  ... trans_src translate  \\\n",
       "0       []   22  1331009579879178241       en  ...                       \n",
       "2       []   19  1330587567918632962       en  ...                       \n",
       "\n",
       "                                               tweet  urls     user_id  \\\n",
       "0  I spoke with @JacindaArdern. We must work with...    []  1976143068   \n",
       "2  The initiatives taken by France are now on the...    []  1976143068   \n",
       "\n",
       "   user_id_str user_rt user_rt_id        username video  \n",
       "0   1976143068                     EmmanuelMacron     0  \n",
       "2   1976143068                     EmmanuelMacron     1  \n",
       "\n",
       "[2 rows x 38 columns]"
      ]
     },
     "execution_count": 260,
     "metadata": {},
     "output_type": "execute_result"
    }
   ],
   "source": [
    "df.head(2)"
   ]
  },
  {
   "cell_type": "code",
   "execution_count": 261,
   "metadata": {
    "hidden": true
   },
   "outputs": [
    {
     "data": {
      "text/plain": [
       "(10, 38)"
      ]
     },
     "execution_count": 261,
     "metadata": {},
     "output_type": "execute_result"
    }
   ],
   "source": [
    "df.shape"
   ]
  },
  {
   "cell_type": "code",
   "execution_count": 262,
   "metadata": {
    "hidden": true
   },
   "outputs": [
    {
     "data": {
      "text/plain": [
       "'EmmanuelMacron'"
      ]
     },
     "execution_count": 262,
     "metadata": {},
     "output_type": "execute_result"
    }
   ],
   "source": [
    "t.username"
   ]
  },
  {
   "cell_type": "code",
   "execution_count": 263,
   "metadata": {
    "hidden": true
   },
   "outputs": [
    {
     "data": {
      "text/plain": [
       "Index(['cashtags', 'conversation_id', 'created_at', 'date', 'day', 'geo',\n",
       "       'hashtags', 'hour', 'id', 'language', 'link', 'name', 'near', 'nlikes',\n",
       "       'nreplies', 'nretweets', 'photos', 'place', 'quote_url', 'reply_to',\n",
       "       'retweet', 'retweet_date', 'retweet_id', 'search', 'source',\n",
       "       'thumbnail', 'timezone', 'trans_dest', 'trans_src', 'translate',\n",
       "       'tweet', 'urls', 'user_id', 'user_id_str', 'user_rt', 'user_rt_id',\n",
       "       'username', 'video'],\n",
       "      dtype='object')"
      ]
     },
     "execution_count": 263,
     "metadata": {},
     "output_type": "execute_result"
    }
   ],
   "source": [
    "df.columns"
   ]
  },
  {
   "cell_type": "markdown",
   "metadata": {
    "heading_collapsed": true,
    "hidden": true
   },
   "source": [
    "### csv()"
   ]
  },
  {
   "cell_type": "code",
   "execution_count": 268,
   "metadata": {
    "hidden": true
   },
   "outputs": [
    {
     "name": "stdout",
     "output_type": "stream",
     "text": [
      "[!] No more data! Scraping will stop now.\n",
      "found 0 deleted tweets in this search.\n"
     ]
    }
   ],
   "source": [
    "kwargs = dict(\n",
    "        username='EmmanuelMacron',\n",
    "        search='nuclear',\n",
    "        since=False,\n",
    "        cities=False,\n",
    "        file_path='../green_mood_tracker/data/general.csv',\n",
    "        limit=100\n",
    "    )\n",
    "    \n",
    "t = TWINT(**kwargs)\n",
    "\n",
    "df = t.csv()"
   ]
  },
  {
   "cell_type": "code",
   "execution_count": 269,
   "metadata": {
    "hidden": true
   },
   "outputs": [
    {
     "name": "stdout",
     "output_type": "stream",
     "text": [
      "city.csv    data.csv.gz general.csv\r\n"
     ]
    }
   ],
   "source": [
    "! ls ../green_mood_tracker/data/"
   ]
  },
  {
   "cell_type": "code",
   "execution_count": 270,
   "metadata": {
    "hidden": true
   },
   "outputs": [],
   "source": [
    "csv = pd.read_csv('../green_mood_tracker/data/city.csv')"
   ]
  },
  {
   "cell_type": "code",
   "execution_count": 272,
   "metadata": {
    "hidden": true
   },
   "outputs": [
    {
     "data": {
      "text/html": [
       "<div>\n",
       "<style scoped>\n",
       "    .dataframe tbody tr th:only-of-type {\n",
       "        vertical-align: middle;\n",
       "    }\n",
       "\n",
       "    .dataframe tbody tr th {\n",
       "        vertical-align: top;\n",
       "    }\n",
       "\n",
       "    .dataframe thead th {\n",
       "        text-align: right;\n",
       "    }\n",
       "</style>\n",
       "<table border=\"1\" class=\"dataframe\">\n",
       "  <thead>\n",
       "    <tr style=\"text-align: right;\">\n",
       "      <th></th>\n",
       "      <th>Unnamed: 0</th>\n",
       "      <th>Unnamed: 0.1</th>\n",
       "      <th>Unnamed: 0.1.1</th>\n",
       "      <th>id</th>\n",
       "      <th>conversation_id</th>\n",
       "      <th>created_at</th>\n",
       "      <th>date</th>\n",
       "      <th>time</th>\n",
       "      <th>timezone</th>\n",
       "      <th>user_id</th>\n",
       "      <th>...</th>\n",
       "      <th>geo</th>\n",
       "      <th>source</th>\n",
       "      <th>user_rt_id</th>\n",
       "      <th>user_rt</th>\n",
       "      <th>retweet_id</th>\n",
       "      <th>reply_to</th>\n",
       "      <th>retweet_date</th>\n",
       "      <th>translate</th>\n",
       "      <th>trans_src</th>\n",
       "      <th>trans_dest</th>\n",
       "    </tr>\n",
       "  </thead>\n",
       "  <tbody>\n",
       "    <tr>\n",
       "      <th>0</th>\n",
       "      <td>0</td>\n",
       "      <td>0</td>\n",
       "      <td>0</td>\n",
       "      <td>1331086262728601607</td>\n",
       "      <td>1331086262728601607</td>\n",
       "      <td>2020-11-24 04:04:30 GMT</td>\n",
       "      <td>2020-11-24</td>\n",
       "      <td>04:04:30</td>\n",
       "      <td>0</td>\n",
       "      <td>1311979276783230976</td>\n",
       "      <td>...</td>\n",
       "      <td>NaN</td>\n",
       "      <td>NaN</td>\n",
       "      <td>NaN</td>\n",
       "      <td>NaN</td>\n",
       "      <td>NaN</td>\n",
       "      <td>[]</td>\n",
       "      <td>NaN</td>\n",
       "      <td>NaN</td>\n",
       "      <td>NaN</td>\n",
       "      <td>NaN</td>\n",
       "    </tr>\n",
       "    <tr>\n",
       "      <th>1</th>\n",
       "      <td>1</td>\n",
       "      <td>1</td>\n",
       "      <td>2</td>\n",
       "      <td>1330887469647138825</td>\n",
       "      <td>1330887469647138825</td>\n",
       "      <td>2020-11-23 14:54:34 GMT</td>\n",
       "      <td>2020-11-23</td>\n",
       "      <td>14:54:34</td>\n",
       "      <td>0</td>\n",
       "      <td>16038443</td>\n",
       "      <td>...</td>\n",
       "      <td>NaN</td>\n",
       "      <td>NaN</td>\n",
       "      <td>NaN</td>\n",
       "      <td>NaN</td>\n",
       "      <td>NaN</td>\n",
       "      <td>[]</td>\n",
       "      <td>NaN</td>\n",
       "      <td>NaN</td>\n",
       "      <td>NaN</td>\n",
       "      <td>NaN</td>\n",
       "    </tr>\n",
       "    <tr>\n",
       "      <th>2</th>\n",
       "      <td>2</td>\n",
       "      <td>2</td>\n",
       "      <td>3</td>\n",
       "      <td>1330845721512144896</td>\n",
       "      <td>1330845721512144896</td>\n",
       "      <td>2020-11-23 12:08:40 GMT</td>\n",
       "      <td>2020-11-23</td>\n",
       "      <td>12:08:40</td>\n",
       "      <td>0</td>\n",
       "      <td>885125628684632065</td>\n",
       "      <td>...</td>\n",
       "      <td>NaN</td>\n",
       "      <td>NaN</td>\n",
       "      <td>NaN</td>\n",
       "      <td>NaN</td>\n",
       "      <td>NaN</td>\n",
       "      <td>[]</td>\n",
       "      <td>NaN</td>\n",
       "      <td>NaN</td>\n",
       "      <td>NaN</td>\n",
       "      <td>NaN</td>\n",
       "    </tr>\n",
       "    <tr>\n",
       "      <th>3</th>\n",
       "      <td>3</td>\n",
       "      <td>3</td>\n",
       "      <td>4</td>\n",
       "      <td>1330845706488188928</td>\n",
       "      <td>1330845706488188928</td>\n",
       "      <td>2020-11-23 12:08:37 GMT</td>\n",
       "      <td>2020-11-23</td>\n",
       "      <td>12:08:37</td>\n",
       "      <td>0</td>\n",
       "      <td>272581516</td>\n",
       "      <td>...</td>\n",
       "      <td>NaN</td>\n",
       "      <td>NaN</td>\n",
       "      <td>NaN</td>\n",
       "      <td>NaN</td>\n",
       "      <td>NaN</td>\n",
       "      <td>[]</td>\n",
       "      <td>NaN</td>\n",
       "      <td>NaN</td>\n",
       "      <td>NaN</td>\n",
       "      <td>NaN</td>\n",
       "    </tr>\n",
       "    <tr>\n",
       "      <th>4</th>\n",
       "      <td>4</td>\n",
       "      <td>4</td>\n",
       "      <td>5</td>\n",
       "      <td>1330820120353103874</td>\n",
       "      <td>1330820120353103874</td>\n",
       "      <td>2020-11-23 10:26:56 GMT</td>\n",
       "      <td>2020-11-23</td>\n",
       "      <td>10:26:56</td>\n",
       "      <td>0</td>\n",
       "      <td>155522617</td>\n",
       "      <td>...</td>\n",
       "      <td>NaN</td>\n",
       "      <td>NaN</td>\n",
       "      <td>NaN</td>\n",
       "      <td>NaN</td>\n",
       "      <td>NaN</td>\n",
       "      <td>[]</td>\n",
       "      <td>NaN</td>\n",
       "      <td>NaN</td>\n",
       "      <td>NaN</td>\n",
       "      <td>NaN</td>\n",
       "    </tr>\n",
       "  </tbody>\n",
       "</table>\n",
       "<p>5 rows × 39 columns</p>\n",
       "</div>"
      ],
      "text/plain": [
       "   Unnamed: 0  Unnamed: 0.1  Unnamed: 0.1.1                   id  \\\n",
       "0           0             0               0  1331086262728601607   \n",
       "1           1             1               2  1330887469647138825   \n",
       "2           2             2               3  1330845721512144896   \n",
       "3           3             3               4  1330845706488188928   \n",
       "4           4             4               5  1330820120353103874   \n",
       "\n",
       "       conversation_id               created_at        date      time  \\\n",
       "0  1331086262728601607  2020-11-24 04:04:30 GMT  2020-11-24  04:04:30   \n",
       "1  1330887469647138825  2020-11-23 14:54:34 GMT  2020-11-23  14:54:34   \n",
       "2  1330845721512144896  2020-11-23 12:08:40 GMT  2020-11-23  12:08:40   \n",
       "3  1330845706488188928  2020-11-23 12:08:37 GMT  2020-11-23  12:08:37   \n",
       "4  1330820120353103874  2020-11-23 10:26:56 GMT  2020-11-23  10:26:56   \n",
       "\n",
       "   timezone              user_id  ... geo source  user_rt_id user_rt  \\\n",
       "0         0  1311979276783230976  ... NaN    NaN         NaN     NaN   \n",
       "1         0             16038443  ... NaN    NaN         NaN     NaN   \n",
       "2         0   885125628684632065  ... NaN    NaN         NaN     NaN   \n",
       "3         0            272581516  ... NaN    NaN         NaN     NaN   \n",
       "4         0            155522617  ... NaN    NaN         NaN     NaN   \n",
       "\n",
       "  retweet_id reply_to retweet_date translate  trans_src  trans_dest  \n",
       "0        NaN       []          NaN       NaN        NaN         NaN  \n",
       "1        NaN       []          NaN       NaN        NaN         NaN  \n",
       "2        NaN       []          NaN       NaN        NaN         NaN  \n",
       "3        NaN       []          NaN       NaN        NaN         NaN  \n",
       "4        NaN       []          NaN       NaN        NaN         NaN  \n",
       "\n",
       "[5 rows x 39 columns]"
      ]
     },
     "execution_count": 272,
     "metadata": {},
     "output_type": "execute_result"
    }
   ],
   "source": [
    "csv.head()"
   ]
  },
  {
   "cell_type": "code",
   "execution_count": 271,
   "metadata": {
    "hidden": true
   },
   "outputs": [
    {
     "data": {
      "text/plain": [
       "(336, 39)"
      ]
     },
     "execution_count": 271,
     "metadata": {},
     "output_type": "execute_result"
    }
   ],
   "source": [
    "csv.shape"
   ]
  },
  {
   "cell_type": "markdown",
   "metadata": {
    "heading_collapsed": true
   },
   "source": [
    "## City Search (Most important)"
   ]
  },
  {
   "cell_type": "markdown",
   "metadata": {
    "heading_collapsed": true,
    "hidden": true
   },
   "source": [
    "### city_df()"
   ]
  },
  {
   "cell_type": "code",
   "execution_count": 194,
   "metadata": {
    "hidden": true
   },
   "outputs": [
    {
     "name": "stdout",
     "output_type": "stream",
     "text": [
      "[!] No more data! Scraping will stop now.\n",
      "found 0 deleted tweets in this search.\n",
      "[!] No more data! Scraping will stop now.\n",
      "found 0 deleted tweets in this search.\n"
     ]
    }
   ],
   "source": [
    "kwargs = dict(\n",
    "    keywords=['nuclear','green'],\n",
    "    cities=['London','Paris'],\n",
    "    since = '2020-11-10 12:00:00',\n",
    "    store_csv=False,\n",
    "    limit=200\n",
    ")\n",
    "\n",
    "t = TWINT(**kwargs)\n",
    "\n",
    "df_city = t.city_df()"
   ]
  },
  {
   "cell_type": "code",
   "execution_count": 195,
   "metadata": {
    "hidden": true
   },
   "outputs": [
    {
     "data": {
      "text/plain": [
       "(['nuclear', 'green'], ['London', 'Paris'], '2020-11-10 12:00:00')"
      ]
     },
     "execution_count": 195,
     "metadata": {},
     "output_type": "execute_result"
    }
   ],
   "source": [
    "t.keywords, t.cities, t.since"
   ]
  },
  {
   "cell_type": "code",
   "execution_count": 206,
   "metadata": {
    "hidden": true
   },
   "outputs": [
    {
     "data": {
      "text/html": [
       "<div>\n",
       "<style scoped>\n",
       "    .dataframe tbody tr th:only-of-type {\n",
       "        vertical-align: middle;\n",
       "    }\n",
       "\n",
       "    .dataframe tbody tr th {\n",
       "        vertical-align: top;\n",
       "    }\n",
       "\n",
       "    .dataframe thead th {\n",
       "        text-align: right;\n",
       "    }\n",
       "</style>\n",
       "<table border=\"1\" class=\"dataframe\">\n",
       "  <thead>\n",
       "    <tr style=\"text-align: right;\">\n",
       "      <th></th>\n",
       "      <th>cashtags</th>\n",
       "      <th>conversation_id</th>\n",
       "      <th>created_at</th>\n",
       "      <th>date</th>\n",
       "      <th>day</th>\n",
       "      <th>geo</th>\n",
       "      <th>hashtags</th>\n",
       "      <th>hour</th>\n",
       "      <th>id</th>\n",
       "      <th>language</th>\n",
       "      <th>...</th>\n",
       "      <th>trans_src</th>\n",
       "      <th>translate</th>\n",
       "      <th>tweet</th>\n",
       "      <th>urls</th>\n",
       "      <th>user_id</th>\n",
       "      <th>user_id_str</th>\n",
       "      <th>user_rt</th>\n",
       "      <th>user_rt_id</th>\n",
       "      <th>username</th>\n",
       "      <th>video</th>\n",
       "    </tr>\n",
       "  </thead>\n",
       "  <tbody>\n",
       "    <tr>\n",
       "      <th>0</th>\n",
       "      <td>[]</td>\n",
       "      <td>1331086262728601607</td>\n",
       "      <td>1.606191e+12</td>\n",
       "      <td>2020-11-24 04:04:30</td>\n",
       "      <td>2</td>\n",
       "      <td></td>\n",
       "      <td>[]</td>\n",
       "      <td>04</td>\n",
       "      <td>1331086262728601607</td>\n",
       "      <td>en</td>\n",
       "      <td>...</td>\n",
       "      <td></td>\n",
       "      <td></td>\n",
       "      <td>Nuclear power pushed to back burner in U.K.’s ...</td>\n",
       "      <td>[https://furtherasia.com/nuclear-power-pushed-...</td>\n",
       "      <td>1311979276783230976</td>\n",
       "      <td>1311979276783230976</td>\n",
       "      <td></td>\n",
       "      <td></td>\n",
       "      <td>FurtherAsia</td>\n",
       "      <td>0</td>\n",
       "    </tr>\n",
       "    <tr>\n",
       "      <th>1</th>\n",
       "      <td>[]</td>\n",
       "      <td>1330887469647138825</td>\n",
       "      <td>1.606143e+12</td>\n",
       "      <td>2020-11-23 14:54:34</td>\n",
       "      <td>1</td>\n",
       "      <td></td>\n",
       "      <td>[nuclear, green, industrial, transport, nature...</td>\n",
       "      <td>14</td>\n",
       "      <td>1330887469647138825</td>\n",
       "      <td>en</td>\n",
       "      <td>...</td>\n",
       "      <td></td>\n",
       "      <td></td>\n",
       "      <td>CE #Nuclear Group support the 10-point plan &amp;a...</td>\n",
       "      <td>[https://www.pbctoday.co.uk/news/energy-news/g...</td>\n",
       "      <td>16038443</td>\n",
       "      <td>16038443</td>\n",
       "      <td></td>\n",
       "      <td></td>\n",
       "      <td>constructingexc</td>\n",
       "      <td>0</td>\n",
       "    </tr>\n",
       "  </tbody>\n",
       "</table>\n",
       "<p>2 rows × 38 columns</p>\n",
       "</div>"
      ],
      "text/plain": [
       "  cashtags      conversation_id    created_at                 date  day geo  \\\n",
       "0       []  1331086262728601607  1.606191e+12  2020-11-24 04:04:30    2       \n",
       "1       []  1330887469647138825  1.606143e+12  2020-11-23 14:54:34    1       \n",
       "\n",
       "                                            hashtags hour  \\\n",
       "0                                                 []   04   \n",
       "1  [nuclear, green, industrial, transport, nature...   14   \n",
       "\n",
       "                    id language  ... trans_src translate  \\\n",
       "0  1331086262728601607       en  ...                       \n",
       "1  1330887469647138825       en  ...                       \n",
       "\n",
       "                                               tweet  \\\n",
       "0  Nuclear power pushed to back burner in U.K.’s ...   \n",
       "1  CE #Nuclear Group support the 10-point plan &a...   \n",
       "\n",
       "                                                urls              user_id  \\\n",
       "0  [https://furtherasia.com/nuclear-power-pushed-...  1311979276783230976   \n",
       "1  [https://www.pbctoday.co.uk/news/energy-news/g...             16038443   \n",
       "\n",
       "           user_id_str user_rt user_rt_id         username video  \n",
       "0  1311979276783230976                         FurtherAsia     0  \n",
       "1             16038443                     constructingexc     0  \n",
       "\n",
       "[2 rows x 38 columns]"
      ]
     },
     "execution_count": 206,
     "metadata": {},
     "output_type": "execute_result"
    }
   ],
   "source": [
    "df_city.head(2)"
   ]
  },
  {
   "cell_type": "code",
   "execution_count": 192,
   "metadata": {
    "hidden": true
   },
   "outputs": [
    {
     "data": {
      "text/plain": [
       "(84, 38)"
      ]
     },
     "execution_count": 192,
     "metadata": {},
     "output_type": "execute_result"
    }
   ],
   "source": [
    "df_city.shape"
   ]
  },
  {
   "cell_type": "code",
   "execution_count": 193,
   "metadata": {
    "hidden": true
   },
   "outputs": [
    {
     "data": {
      "text/plain": [
       "'Nuclear power: what the ‘green industrial revolution’ means for the next three waves of\\xa0reactors  https://t.co/pMWZ6YZM9d'"
      ]
     },
     "execution_count": 193,
     "metadata": {},
     "output_type": "execute_result"
    }
   ],
   "source": [
    "df_city['tweet'].iloc[3]"
   ]
  },
  {
   "cell_type": "code",
   "execution_count": 187,
   "metadata": {
    "hidden": true
   },
   "outputs": [
    {
     "data": {
      "text/plain": [
       "Index(['cashtags', 'conversation_id', 'created_at', 'date', 'day', 'geo',\n",
       "       'hashtags', 'hour', 'id', 'language', 'link', 'name', 'near', 'nlikes',\n",
       "       'nreplies', 'nretweets', 'photos', 'place', 'quote_url', 'reply_to',\n",
       "       'retweet', 'retweet_date', 'retweet_id', 'search', 'source',\n",
       "       'thumbnail', 'timezone', 'trans_dest', 'trans_src', 'translate',\n",
       "       'tweet', 'urls', 'user_id', 'user_id_str', 'user_rt', 'user_rt_id',\n",
       "       'username', 'video'],\n",
       "      dtype='object')"
      ]
     },
     "execution_count": 187,
     "metadata": {},
     "output_type": "execute_result"
    }
   ],
   "source": [
    "df_city.columns"
   ]
  },
  {
   "cell_type": "markdown",
   "metadata": {
    "heading_collapsed": true,
    "hidden": true
   },
   "source": [
    "### city_csv()"
   ]
  },
  {
   "cell_type": "code",
   "execution_count": 362,
   "metadata": {
    "hidden": true
   },
   "outputs": [
    {
     "name": "stdout",
     "output_type": "stream",
     "text": [
      "[!] No more data! Scraping will stop now.\n",
      "found 0 deleted tweets in this search.\n",
      "[!] No more data! Scraping will stop now.\n",
      "found 0 deleted tweets in this search.\n",
      "Index(['id', 'conversation_id'], dtype='object')\n"
     ]
    }
   ],
   "source": [
    "kwargs = dict(\n",
    "    keywords=['nuclear','green'],\n",
    "    cities=['London','Paris'],\n",
    "    since = '2020-11-10 12:00:00',\n",
    "    limit=200,\n",
    "    file_path='../green_mood_tracker/data/city.csv'\n",
    ")\n",
    "\n",
    "t = TWINT(**kwargs)\n",
    "\n",
    "df_city = t.city_csv()"
   ]
  },
  {
   "cell_type": "code",
   "execution_count": 363,
   "metadata": {
    "hidden": true
   },
   "outputs": [
    {
     "name": "stdout",
     "output_type": "stream",
     "text": [
      "city.csv    data.csv.gz general.csv\r\n"
     ]
    }
   ],
   "source": [
    "! ls ../green_mood_tracker/data/"
   ]
  },
  {
   "cell_type": "code",
   "execution_count": 364,
   "metadata": {
    "hidden": true
   },
   "outputs": [],
   "source": [
    "csv = pd.read_csv('../green_mood_tracker/data/city.csv')"
   ]
  },
  {
   "cell_type": "code",
   "execution_count": 365,
   "metadata": {
    "hidden": true
   },
   "outputs": [
    {
     "data": {
      "text/html": [
       "<div>\n",
       "<style scoped>\n",
       "    .dataframe tbody tr th:only-of-type {\n",
       "        vertical-align: middle;\n",
       "    }\n",
       "\n",
       "    .dataframe tbody tr th {\n",
       "        vertical-align: top;\n",
       "    }\n",
       "\n",
       "    .dataframe thead th {\n",
       "        text-align: right;\n",
       "    }\n",
       "</style>\n",
       "<table border=\"1\" class=\"dataframe\">\n",
       "  <thead>\n",
       "    <tr style=\"text-align: right;\">\n",
       "      <th></th>\n",
       "      <th>id</th>\n",
       "      <th>conversation_id</th>\n",
       "      <th>created_at</th>\n",
       "      <th>date</th>\n",
       "      <th>time</th>\n",
       "      <th>timezone</th>\n",
       "      <th>user_id</th>\n",
       "      <th>username</th>\n",
       "      <th>name</th>\n",
       "      <th>place</th>\n",
       "      <th>...</th>\n",
       "      <th>geo</th>\n",
       "      <th>source</th>\n",
       "      <th>user_rt_id</th>\n",
       "      <th>user_rt</th>\n",
       "      <th>retweet_id</th>\n",
       "      <th>reply_to</th>\n",
       "      <th>retweet_date</th>\n",
       "      <th>translate</th>\n",
       "      <th>trans_src</th>\n",
       "      <th>trans_dest</th>\n",
       "    </tr>\n",
       "  </thead>\n",
       "  <tbody>\n",
       "    <tr>\n",
       "      <th>0</th>\n",
       "      <td>1331086262728601607</td>\n",
       "      <td>1331086262728601607</td>\n",
       "      <td>2020-11-24 04:04:30 GMT</td>\n",
       "      <td>2020-11-24</td>\n",
       "      <td>04:04:30</td>\n",
       "      <td>0</td>\n",
       "      <td>1.311979e+18</td>\n",
       "      <td>furtherasia</td>\n",
       "      <td>FurtherAsia</td>\n",
       "      <td>NaN</td>\n",
       "      <td>...</td>\n",
       "      <td>NaN</td>\n",
       "      <td>NaN</td>\n",
       "      <td>NaN</td>\n",
       "      <td>NaN</td>\n",
       "      <td>NaN</td>\n",
       "      <td>[]</td>\n",
       "      <td>NaN</td>\n",
       "      <td>NaN</td>\n",
       "      <td>NaN</td>\n",
       "      <td>NaN</td>\n",
       "    </tr>\n",
       "    <tr>\n",
       "      <th>1</th>\n",
       "      <td>1330887469647138825</td>\n",
       "      <td>1330887469647138825</td>\n",
       "      <td>2020-11-23 14:54:34 GMT</td>\n",
       "      <td>2020-11-23</td>\n",
       "      <td>14:54:34</td>\n",
       "      <td>0</td>\n",
       "      <td>1.603844e+07</td>\n",
       "      <td>constructingexc</td>\n",
       "      <td>Constructing Excellence</td>\n",
       "      <td>NaN</td>\n",
       "      <td>...</td>\n",
       "      <td>NaN</td>\n",
       "      <td>NaN</td>\n",
       "      <td>NaN</td>\n",
       "      <td>NaN</td>\n",
       "      <td>NaN</td>\n",
       "      <td>[]</td>\n",
       "      <td>NaN</td>\n",
       "      <td>NaN</td>\n",
       "      <td>NaN</td>\n",
       "      <td>NaN</td>\n",
       "    </tr>\n",
       "    <tr>\n",
       "      <th>2</th>\n",
       "      <td>1330845721512144896</td>\n",
       "      <td>1330845721512144896</td>\n",
       "      <td>2020-11-23 12:08:40 GMT</td>\n",
       "      <td>2020-11-23</td>\n",
       "      <td>12:08:40</td>\n",
       "      <td>0</td>\n",
       "      <td>8.851256e+17</td>\n",
       "      <td>gam3rpunk</td>\n",
       "      <td>hasan dervish</td>\n",
       "      <td>NaN</td>\n",
       "      <td>...</td>\n",
       "      <td>NaN</td>\n",
       "      <td>NaN</td>\n",
       "      <td>NaN</td>\n",
       "      <td>NaN</td>\n",
       "      <td>NaN</td>\n",
       "      <td>[]</td>\n",
       "      <td>NaN</td>\n",
       "      <td>NaN</td>\n",
       "      <td>NaN</td>\n",
       "      <td>NaN</td>\n",
       "    </tr>\n",
       "    <tr>\n",
       "      <th>3</th>\n",
       "      <td>1330845706488188928</td>\n",
       "      <td>1330845706488188928</td>\n",
       "      <td>2020-11-23 12:08:37 GMT</td>\n",
       "      <td>2020-11-23</td>\n",
       "      <td>12:08:37</td>\n",
       "      <td>0</td>\n",
       "      <td>2.725815e+08</td>\n",
       "      <td>nathanmcgrathsf</td>\n",
       "      <td>ThatNanopunkGuy</td>\n",
       "      <td>NaN</td>\n",
       "      <td>...</td>\n",
       "      <td>NaN</td>\n",
       "      <td>NaN</td>\n",
       "      <td>NaN</td>\n",
       "      <td>NaN</td>\n",
       "      <td>NaN</td>\n",
       "      <td>[]</td>\n",
       "      <td>NaN</td>\n",
       "      <td>NaN</td>\n",
       "      <td>NaN</td>\n",
       "      <td>NaN</td>\n",
       "    </tr>\n",
       "    <tr>\n",
       "      <th>4</th>\n",
       "      <td>1330820120353103874</td>\n",
       "      <td>1330820120353103874</td>\n",
       "      <td>2020-11-23 10:26:56 GMT</td>\n",
       "      <td>2020-11-23</td>\n",
       "      <td>10:26:56</td>\n",
       "      <td>0</td>\n",
       "      <td>1.555226e+08</td>\n",
       "      <td>ukerchq</td>\n",
       "      <td>UKERC</td>\n",
       "      <td>NaN</td>\n",
       "      <td>...</td>\n",
       "      <td>NaN</td>\n",
       "      <td>NaN</td>\n",
       "      <td>NaN</td>\n",
       "      <td>NaN</td>\n",
       "      <td>NaN</td>\n",
       "      <td>[]</td>\n",
       "      <td>NaN</td>\n",
       "      <td>NaN</td>\n",
       "      <td>NaN</td>\n",
       "      <td>NaN</td>\n",
       "    </tr>\n",
       "  </tbody>\n",
       "</table>\n",
       "<p>5 rows × 36 columns</p>\n",
       "</div>"
      ],
      "text/plain": [
       "                    id      conversation_id               created_at  \\\n",
       "0  1331086262728601607  1331086262728601607  2020-11-24 04:04:30 GMT   \n",
       "1  1330887469647138825  1330887469647138825  2020-11-23 14:54:34 GMT   \n",
       "2  1330845721512144896  1330845721512144896  2020-11-23 12:08:40 GMT   \n",
       "3  1330845706488188928  1330845706488188928  2020-11-23 12:08:37 GMT   \n",
       "4  1330820120353103874  1330820120353103874  2020-11-23 10:26:56 GMT   \n",
       "\n",
       "         date      time  timezone       user_id         username  \\\n",
       "0  2020-11-24  04:04:30         0  1.311979e+18      furtherasia   \n",
       "1  2020-11-23  14:54:34         0  1.603844e+07  constructingexc   \n",
       "2  2020-11-23  12:08:40         0  8.851256e+17        gam3rpunk   \n",
       "3  2020-11-23  12:08:37         0  2.725815e+08  nathanmcgrathsf   \n",
       "4  2020-11-23  10:26:56         0  1.555226e+08          ukerchq   \n",
       "\n",
       "                      name  place  ... geo source user_rt_id user_rt  \\\n",
       "0              FurtherAsia    NaN  ... NaN    NaN        NaN     NaN   \n",
       "1  Constructing Excellence    NaN  ... NaN    NaN        NaN     NaN   \n",
       "2            hasan dervish    NaN  ... NaN    NaN        NaN     NaN   \n",
       "3          ThatNanopunkGuy    NaN  ... NaN    NaN        NaN     NaN   \n",
       "4                    UKERC    NaN  ... NaN    NaN        NaN     NaN   \n",
       "\n",
       "  retweet_id  reply_to  retweet_date  translate trans_src trans_dest  \n",
       "0        NaN        []           NaN        NaN       NaN        NaN  \n",
       "1        NaN        []           NaN        NaN       NaN        NaN  \n",
       "2        NaN        []           NaN        NaN       NaN        NaN  \n",
       "3        NaN        []           NaN        NaN       NaN        NaN  \n",
       "4        NaN        []           NaN        NaN       NaN        NaN  \n",
       "\n",
       "[5 rows x 36 columns]"
      ]
     },
     "execution_count": 365,
     "metadata": {},
     "output_type": "execute_result"
    }
   ],
   "source": [
    "csv.head()"
   ]
  },
  {
   "cell_type": "code",
   "execution_count": 366,
   "metadata": {
    "hidden": true
   },
   "outputs": [
    {
     "data": {
      "text/plain": [
       "Index(['id', 'conversation_id', 'created_at', 'date', 'time', 'timezone',\n",
       "       'user_id', 'username', 'name', 'place', 'tweet', 'language', 'mentions',\n",
       "       'urls', 'photos', 'replies_count', 'retweets_count', 'likes_count',\n",
       "       'hashtags', 'cashtags', 'link', 'retweet', 'quote_url', 'video',\n",
       "       'thumbnail', 'near', 'geo', 'source', 'user_rt_id', 'user_rt',\n",
       "       'retweet_id', 'reply_to', 'retweet_date', 'translate', 'trans_src',\n",
       "       'trans_dest'],\n",
       "      dtype='object')"
      ]
     },
     "execution_count": 366,
     "metadata": {},
     "output_type": "execute_result"
    }
   ],
   "source": [
    "csv.columns"
   ]
  },
  {
   "cell_type": "code",
   "execution_count": 367,
   "metadata": {
    "hidden": true
   },
   "outputs": [
    {
     "data": {
      "text/plain": [
       "(756, 36)"
      ]
     },
     "execution_count": 367,
     "metadata": {},
     "output_type": "execute_result"
    }
   ],
   "source": [
    "csv.shape"
   ]
  },
  {
   "cell_type": "code",
   "execution_count": 243,
   "metadata": {
    "hidden": true
   },
   "outputs": [
    {
     "data": {
      "text/plain": [
       "array(['en'], dtype=object)"
      ]
     },
     "execution_count": 243,
     "metadata": {},
     "output_type": "execute_result"
    }
   ],
   "source": [
    "csv['language'].unique()"
   ]
  },
  {
   "cell_type": "code",
   "execution_count": 240,
   "metadata": {
    "hidden": true
   },
   "outputs": [
    {
     "data": {
      "text/plain": [
       "\"CE #Nuclear Group support the 10-point plan &amp; £12bn Gov't investment into a #Green #Industrial Revolution. #Transport #nature #innovative #technologies &amp;clean #energy source across large scale nuclear and next gen of small &amp; advanced #reactors+10,000 jobs!  https://t.co/YuVbRkRb6w\""
      ]
     },
     "execution_count": 240,
     "metadata": {},
     "output_type": "execute_result"
    }
   ],
   "source": [
    "csv['tweet'].iloc[1]"
   ]
  },
  {
   "cell_type": "code",
   "execution_count": null,
   "metadata": {
    "hidden": true
   },
   "outputs": [],
   "source": []
  }
 ],
 "metadata": {
  "kernelspec": {
   "display_name": "Python 3",
   "language": "python",
   "name": "python3"
  },
  "language_info": {
   "codemirror_mode": {
    "name": "ipython",
    "version": 3
   },
   "file_extension": ".py",
   "mimetype": "text/x-python",
   "name": "python",
   "nbconvert_exporter": "python",
   "pygments_lexer": "ipython3",
   "version": "3.7.7"
  },
  "toc": {
   "base_numbering": 1,
   "nav_menu": {},
   "number_sections": true,
   "sideBar": true,
   "skip_h1_title": false,
   "title_cell": "Table of Contents",
   "title_sidebar": "Contents",
   "toc_cell": false,
   "toc_position": {},
   "toc_section_display": true,
   "toc_window_display": false
  }
 },
 "nbformat": 4,
 "nbformat_minor": 4
}
